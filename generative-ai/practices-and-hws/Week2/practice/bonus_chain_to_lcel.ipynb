{
 "nbformat": 4,
 "nbformat_minor": 0,
 "metadata": {
  "colab": {
   "provenance": [],
   "toc_visible": true,
   "authorship_tag": "ABX9TyOOpA2sD6QUYxZbLhf7EkNS",
   "include_colab_link": true
  },
  "kernelspec": {
   "name": "python3",
   "display_name": "Python 3"
  },
  "language_info": {
   "name": "python"
  }
 },
 "cells": [
  {
   "cell_type": "markdown",
   "metadata": {
    "id": "view-in-github",
    "colab_type": "text"
   },
   "source": [
    "<a href=\"https://colab.research.google.com/github/AlexUmnov/genai_course/blob/main/week2_llm_agents/bonus_chain_to_lcel.ipynb\" target=\"_parent\"><img src=\"https://colab.research.google.com/assets/colab-badge.svg\" alt=\"Open In Colab\"/></a>"
   ]
  },
  {
   "cell_type": "markdown",
   "source": [
    "The world of LLM and LLM related tools changes very fast.\n",
    "\n",
    "For example, while we were writing this course, one of most widely used libraries for LLM-related tasks deprecated their main interface.\n",
    "\n",
    "More precisely they went from `Chain` interface to `LCEL` - Lang Chain Expression Language.\n",
    "\n",
    "This change does not change the fundamental materials so much. But we wanted to show you the difference between the two, as you might see tutorials in LCEL and we want you to be prepared"
   ],
   "metadata": {
    "id": "WELtFNpZJPt4"
   }
  },
  {
   "cell_type": "code",
   "source": [
    "!pip install langchain openai langchain_openai --quiet"
   ],
   "metadata": {
    "colab": {
     "base_uri": "https://localhost:8080/"
    },
    "id": "9Of1C0V1KaXK",
    "outputId": "8aead2f6-6623-4ece-dc19-5f88644f05c5"
   },
   "execution_count": 5,
   "outputs": [
    {
     "output_type": "stream",
     "name": "stdout",
     "text": [
      "\u001B[?25l     \u001B[90m━━━━━━━━━━━━━━━━━━━━━━━━━━━━━━━━━━━━━━━━\u001B[0m \u001B[32m0.0/2.0 MB\u001B[0m \u001B[31m?\u001B[0m eta \u001B[36m-:--:--\u001B[0m\r\u001B[2K     \u001B[91m━\u001B[0m\u001B[90m╺\u001B[0m\u001B[90m━━━━━━━━━━━━━━━━━━━━━━━━━━━━━━━━━━━━━━\u001B[0m \u001B[32m0.1/2.0 MB\u001B[0m \u001B[31m2.0 MB/s\u001B[0m eta \u001B[36m0:00:01\u001B[0m\r\u001B[2K     \u001B[91m━━━━\u001B[0m\u001B[90m╺\u001B[0m\u001B[90m━━━━━━━━━━━━━━━━━━━━━━━━━━━━━━━━━━━\u001B[0m \u001B[32m0.2/2.0 MB\u001B[0m \u001B[31m3.0 MB/s\u001B[0m eta \u001B[36m0:00:01\u001B[0m\r\u001B[2K     \u001B[91m━━━━━━━━━━━━\u001B[0m\u001B[90m╺\u001B[0m\u001B[90m━━━━━━━━━━━━━━━━━━━━━━━━━━━\u001B[0m \u001B[32m0.6/2.0 MB\u001B[0m \u001B[31m5.7 MB/s\u001B[0m eta \u001B[36m0:00:01\u001B[0m\r\u001B[2K     \u001B[91m━━━━━━━━━━━━━━━━━━━━━━━━━━━━━\u001B[0m\u001B[90m╺\u001B[0m\u001B[90m━━━━━━━━━━\u001B[0m \u001B[32m1.5/2.0 MB\u001B[0m \u001B[31m10.3 MB/s\u001B[0m eta \u001B[36m0:00:01\u001B[0m\r\u001B[2K     \u001B[91m━━━━━━━━━━━━━━━━━━━━━━━━━━━━━━━━━━━━━━━\u001B[0m\u001B[91m╸\u001B[0m \u001B[32m2.0/2.0 MB\u001B[0m \u001B[31m12.4 MB/s\u001B[0m eta \u001B[36m0:00:01\u001B[0m\r\u001B[2K     \u001B[90m━━━━━━━━━━━━━━━━━━━━━━━━━━━━━━━━━━━━━━━━\u001B[0m \u001B[32m2.0/2.0 MB\u001B[0m \u001B[31m11.0 MB/s\u001B[0m eta \u001B[36m0:00:00\u001B[0m\n",
      "\u001B[?25h\u001B[31mERROR: pip's dependency resolver does not currently take into account all the packages that are installed. This behaviour is the source of the following dependency conflicts.\n",
      "llmx 0.0.15a0 requires cohere, which is not installed.\u001B[0m\u001B[31m\n",
      "\u001B[0m"
     ]
    }
   ]
  },
  {
   "cell_type": "code",
   "source": [
    "import os\n",
    "os.environ['OPENAI_API_KEY'] = open(\"../../keys/.open-ai-api-key\").read().strip()"
   ],
   "metadata": {
    "id": "fjm9ShP0Lh7B"
   },
   "execution_count": 6,
   "outputs": []
  },
  {
   "cell_type": "markdown",
   "source": [
    "A short demonstration of how the new interface looks:"
   ],
   "metadata": {
    "id": "8sNm-rtxrkOC"
   }
  },
  {
   "cell_type": "code",
   "source": [
    "from langchain_core.output_parsers import StrOutputParser\n",
    "from langchain_core.prompts import ChatPromptTemplate\n",
    "from langchain_openai import ChatOpenAI\n",
    "\n",
    "prompt = ChatPromptTemplate.from_template(\"tell me a short joke about {topic}\")\n",
    "model = ChatOpenAI(model=\"gpt-4\")\n",
    "output_parser = StrOutputParser()\n",
    "\n",
    "chain = prompt | model | output_parser\n",
    "\n",
    "print(chain.invoke({\"topic\": \"beavers and elves\"}))"
   ],
   "metadata": {
    "id": "Uufyd-ocrrIi",
    "outputId": "6f55df03-374f-4d95-b57d-74aed969bdcf",
    "colab": {
     "base_uri": "https://localhost:8080/"
    }
   },
   "execution_count": 8,
   "outputs": [
    {
     "output_type": "stream",
     "name": "stdout",
     "text": [
      "Why don't elves play hide and seek with beavers?\n",
      "\n",
      "Because they always find them \"barking\" up the wrong tree!\n"
     ]
    }
   ]
  },
  {
   "cell_type": "markdown",
   "source": [
    "This notebook will have a demonstration of all the concepts introduced in the practice sesion and how (or if) they changed with the new version."
   ],
   "metadata": {
    "id": "5MXRqMMlsPn0"
   }
  },
  {
   "cell_type": "markdown",
   "source": [
    "# Using a model\n",
    "\n",
    "Before we were using a method `predict` and now the correct one is `invoke`"
   ],
   "metadata": {
    "id": "xQ-K9bBAtNqc"
   }
  },
  {
   "cell_type": "markdown",
   "source": [
    "## Classic LLM"
   ],
   "metadata": {
    "id": "GDReW5NYvGh7"
   }
  },
  {
   "cell_type": "code",
   "source": [
    "from langchain.llms import OpenAI\n",
    "\n",
    "llm = OpenAI()\n",
    "\n",
    "llm.invoke(\"Hello \")"
   ],
   "metadata": {
    "id": "piMM6hsms4Ne",
    "outputId": "4be565ab-1570-49eb-eef0-54a5d90a88bf",
    "colab": {
     "base_uri": "https://localhost:8080/",
     "height": 35
    }
   },
   "execution_count": 11,
   "outputs": [
    {
     "output_type": "execute_result",
     "data": {
      "text/plain": [
       "'\\n\\nHello! How are you doing today? '"
      ],
      "application/vnd.google.colaboratory.intrinsic+json": {
       "type": "string"
      }
     },
     "metadata": {},
     "execution_count": 11
    }
   ]
  },
  {
   "cell_type": "code",
   "source": [
    "from langchain_core.prompts import ChatPromptTemplate\n",
    "\n",
    "prompt = ChatPromptTemplate.from_template(\"One {object} a day keeps who away?\")\n",
    "\n",
    "prompt_value = prompt.invoke({\"object\": \"apple\"})\n",
    "\n",
    "llm.invoke(prompt_value.to_string())"
   ],
   "metadata": {
    "id": "enkkoYegt_sY",
    "outputId": "89c7ce6d-fb3f-4bc0-bd58-b1bcc5bdf66a",
    "colab": {
     "base_uri": "https://localhost:8080/",
     "height": 35
    }
   },
   "execution_count": 14,
   "outputs": [
    {
     "output_type": "execute_result",
     "data": {
      "text/plain": [
       "'\\n\\nDoctor.'"
      ],
      "application/vnd.google.colaboratory.intrinsic+json": {
       "type": "string"
      }
     },
     "metadata": {},
     "execution_count": 14
    }
   ]
  },
  {
   "cell_type": "markdown",
   "source": [
    "## Chat model"
   ],
   "metadata": {
    "id": "uuhi23_ateis"
   }
  },
  {
   "cell_type": "code",
   "source": [
    "from langchain_openai import ChatOpenAI\n",
    "\n",
    "chat_model = ChatOpenAI()\n",
    "\n",
    "chat_model.invoke(prompt_value.to_messages())"
   ],
   "metadata": {
    "id": "pdRL4pIYtgrS",
    "outputId": "ef07fb55-2699-489e-caf0-4d5184037234",
    "colab": {
     "base_uri": "https://localhost:8080/"
    }
   },
   "execution_count": 16,
   "outputs": [
    {
     "output_type": "execute_result",
     "data": {
      "text/plain": [
       "AIMessage(content='The saying \"One apple a day keeps the doctor away.\"')"
      ]
     },
     "metadata": {},
     "execution_count": 16
    }
   ]
  },
  {
   "cell_type": "markdown",
   "source": [
    "# Chains\n",
    "\n",
    "What it looked like before\n",
    "\n",
    "```\n",
    "from langchain.chains import LLMChain\n",
    "\n",
    "chain = LLMChain(llm=llm, prompt=prompt)\n",
    "chain.run(\"Australia\"\n",
    "```\n",
    "\n",
    "Now the interface is the following"
   ],
   "metadata": {
    "id": "PzOgtl2_vLkm"
   }
  },
  {
   "cell_type": "code",
   "source": [
    "chain = prompt | model\n",
    "chain.invoke({\"object\": \"Banana\"})"
   ],
   "metadata": {
    "id": "rAreoZKXvhoC",
    "outputId": "642a521c-9cbe-4986-ae01-f2ebc8c47400",
    "colab": {
     "base_uri": "https://localhost:8080/"
    }
   },
   "execution_count": 20,
   "outputs": [
    {
     "output_type": "execute_result",
     "data": {
      "text/plain": [
       "AIMessage(content='There isn\\'t a specific person or thing that one banana a day keeps away. However, it is a healthy habit that may help to keep diseases away due to its high content of vitamins and minerals. The phrase is a play on the old saying \"An apple a day keeps the doctor away.\"')"
      ]
     },
     "metadata": {},
     "execution_count": 20
    }
   ]
  },
  {
   "cell_type": "markdown",
   "source": [
    "## Sequential chains\n",
    "\n",
    "Before it looked like this:\n",
    "\n",
    "```\n",
    "from langchain.chains import SimpleSequentialChain\n",
    "\n",
    "first_prompt = PromptTemplate.from_template(\n",
    "    \"What is the capital of {country}?\"\n",
    ")\n",
    "first_chain = LLMChain(llm=llm, prompt=first_prompt)\n",
    "\n",
    "second_prompt = PromptTemplate.from_template(\n",
    "    \"{city} is the capital of which country?\"\n",
    ")\n",
    "second_chain = LLMChain(llm=llm, prompt=second_prompt)\n",
    "\n",
    "simple_sequential_chain = SimpleSequentialChain(\n",
    "    chains=[first_chain, second_chain],\n",
    "    verbose=True\n",
    ")\n",
    "```\n",
    "And the new interface is the following:\n"
   ],
   "metadata": {
    "id": "bCwyVU8EwOI4"
   }
  },
  {
   "cell_type": "code",
   "source": [
    "from operator import itemgetter\n",
    "\n",
    "from langchain_core.output_parsers import StrOutputParser\n",
    "from langchain_core.prompts import ChatPromptTemplate\n",
    "from langchain_openai import ChatOpenAI\n",
    "\n",
    "output_parser = StrOutputParser()\n",
    "\n",
    "pie_prompt = ChatPromptTemplate.from_template(\"I want to bake a {pie}. Give me a list of ingredients.\")\n",
    "\n",
    "looking_in_the_fridge_prompt = ChatPromptTemplate.from_template(\n",
    "    \"I have {in_the_fridge}, repeat {recipe} adding to each ingredient if I need to buy it\"\n",
    ")\n",
    "\n",
    "model = ChatOpenAI()\n",
    "\n",
    "recipe_chain = pie_prompt | model | output_parser\n",
    "\n",
    "ingredients_chain = (\n",
    "   {\"in_the_fridge\": itemgetter(\"in_the_fridge\"), \"recipe\": recipe_chain}\n",
    "   | looking_in_the_fridge_prompt\n",
    "   | model\n",
    "   | output_parser\n",
    ")\n",
    "\n",
    "print(\n",
    "    ingredients_chain.invoke(\n",
    "        {\"pie\": \"cheescake\", \"in_the_fridge\": \"milk\"},\n",
    "    )\n",
    ")"
   ],
   "metadata": {
    "id": "_9MqxLOqwdEN",
    "outputId": "5f821f29-3ed8-40b5-9e9b-8cd348b3993a",
    "colab": {
     "base_uri": "https://localhost:8080/"
    }
   },
   "execution_count": 26,
   "outputs": [
    {
     "output_type": "stream",
     "name": "stdout",
     "text": [
      "If you need to buy any of the ingredients, here is the additional information you may need:\n",
      "\n",
      "- Graham cracker crumbs or digestive biscuits: You will need 1 ½ cups. These can usually be found in the baking aisle of most grocery stores.\n",
      "\n",
      "- Granulated sugar: You will need a total of 1 ¼ cups (1/4 cup for the crust, 1 cup for the filling, and 2 tablespoons for the topping). This is a common ingredient that can be found in the baking aisle.\n",
      "\n",
      "- Unsalted butter: You will need ½ cup for the crust. Check your pantry to see if you have enough, otherwise you can find unsalted butter in the dairy section of most grocery stores.\n",
      "\n",
      "- Cream cheese: You will need 3 packages, which usually come in 8 oz each, totaling 24 oz. You can find cream cheese in the dairy section of most grocery stores.\n",
      "\n",
      "- Vanilla extract: You will need 1 ½ teaspoons in total (1 teaspoon for the filling and ½ teaspoon for the topping). This can be found in the baking aisle of most grocery stores.\n",
      "\n",
      "- Eggs: You will need 3 large eggs. Check your pantry to see if you have enough, otherwise you can find eggs in the dairy section of most grocery stores.\n",
      "\n",
      "- Sour cream: You will need 1 cup if you choose to make the optional topping. Sour cream can usually be found in the dairy section of most grocery stores.\n",
      "\n",
      "- Fruit preserves, chocolate sauce, or other toppings: If you decide to add these optional toppings, you will need to purchase them separately based on your preference.\n",
      "\n",
      "- Cooking spray or extra butter: This is needed to grease the baking pan and prevent the cheesecake from sticking. You can find cooking spray in the baking aisle or use extra butter from your pantry.\n",
      "\n",
      "Remember to check your pantry for any ingredients you may already have before purchasing them.\n"
     ]
    }
   ]
  },
  {
   "cell_type": "markdown",
   "source": [
    "## Debugging"
   ],
   "metadata": {
    "id": "LnBhZvJG4I5_"
   }
  },
  {
   "cell_type": "code",
   "source": [
    "from langchain.callbacks.tracers import ConsoleCallbackHandler\n",
    "\n",
    "print(\n",
    "    ingredients_chain.invoke(\n",
    "        {\"pie\": \"cheescake\", \"in_the_fridge\": \"milk\"},\n",
    "        config={'callbacks': [ConsoleCallbackHandler()]}\n",
    "    )\n",
    ")"
   ],
   "metadata": {
    "id": "smZc_oWj4K-b",
    "outputId": "ce6a88d7-a050-4538-d7b1-7b3391f578a4",
    "colab": {
     "base_uri": "https://localhost:8080/"
    }
   },
   "execution_count": 36,
   "outputs": [
    {
     "output_type": "stream",
     "name": "stdout",
     "text": [
      "\u001B[32;1m\u001B[1;3m[chain/start]\u001B[0m \u001B[1m[1:chain:RunnableSequence] Entering Chain run with input:\n",
      "\u001B[0m{\n",
      "  \"pie\": \"cheescake\",\n",
      "  \"in_the_fridge\": \"milk\"\n",
      "}\n",
      "\u001B[32;1m\u001B[1;3m[chain/start]\u001B[0m \u001B[1m[1:chain:RunnableSequence > 2:chain:RunnableParallel<in_the_fridge,recipe>] Entering Chain run with input:\n",
      "\u001B[0m{\n",
      "  \"pie\": \"cheescake\",\n",
      "  \"in_the_fridge\": \"milk\"\n",
      "}\n",
      "\u001B[32;1m\u001B[1;3m[chain/start]\u001B[0m \u001B[1m[1:chain:RunnableSequence > 2:chain:RunnableParallel<in_the_fridge,recipe> > 3:chain:RunnableSequence] Entering Chain run with input:\n",
      "\u001B[0m{\n",
      "  \"pie\": \"cheescake\",\n",
      "  \"in_the_fridge\": \"milk\"\n",
      "}\u001B[32;1m\u001B[1;3m[chain/start]\u001B[0m \u001B[1m[1:chain:RunnableSequence > 2:chain:RunnableParallel<in_the_fridge,recipe> > 4:chain:RunnableLambda] Entering Chain run with input:\n",
      "\u001B[0m{\n",
      "  \"pie\": \"cheescake\",\n",
      "  \"in_the_fridge\": \"milk\"\n",
      "}\n",
      "\u001B[36;1m\u001B[1;3m[chain/end]\u001B[0m \u001B[1m[1:chain:RunnableSequence > 2:chain:RunnableParallel<in_the_fridge,recipe> > 4:chain:RunnableLambda] [2ms] Exiting Chain run with output:\n",
      "\u001B[0m{\n",
      "  \"output\": \"milk\"\n",
      "}\n",
      "\n",
      "\u001B[32;1m\u001B[1;3m[chain/start]\u001B[0m \u001B[1m[1:chain:RunnableSequence > 2:chain:RunnableParallel<in_the_fridge,recipe> > 3:chain:RunnableSequence > 4:prompt:ChatPromptTemplate] Entering Prompt run with input:\n",
      "\u001B[0m{\n",
      "  \"pie\": \"cheescake\",\n",
      "  \"in_the_fridge\": \"milk\"\n",
      "}\n",
      "\u001B[36;1m\u001B[1;3m[chain/end]\u001B[0m \u001B[1m[1:chain:RunnableSequence > 2:chain:RunnableParallel<in_the_fridge,recipe> > 3:chain:RunnableSequence > 4:prompt:ChatPromptTemplate] [4ms] Exiting Prompt run with output:\n",
      "\u001B[0m{\n",
      "  \"lc\": 1,\n",
      "  \"type\": \"constructor\",\n",
      "  \"id\": [\n",
      "    \"langchain\",\n",
      "    \"prompts\",\n",
      "    \"chat\",\n",
      "    \"ChatPromptValue\"\n",
      "  ],\n",
      "  \"kwargs\": {\n",
      "    \"messages\": [\n",
      "      {\n",
      "        \"lc\": 1,\n",
      "        \"type\": \"constructor\",\n",
      "        \"id\": [\n",
      "          \"langchain\",\n",
      "          \"schema\",\n",
      "          \"messages\",\n",
      "          \"HumanMessage\"\n",
      "        ],\n",
      "        \"kwargs\": {\n",
      "          \"content\": \"I want to bake a cheescake. Give me a list of ingredients.\",\n",
      "          \"additional_kwargs\": {}\n",
      "        }\n",
      "      }\n",
      "    ]\n",
      "  }\n",
      "}\n",
      "\u001B[32;1m\u001B[1;3m[llm/start]\u001B[0m \u001B[1m[1:chain:RunnableSequence > 2:chain:RunnableParallel<in_the_fridge,recipe> > 3:chain:RunnableSequence > 5:llm:ChatOpenAI] Entering LLM run with input:\n",
      "\u001B[0m{\n",
      "  \"prompts\": [\n",
      "    \"Human: I want to bake a cheescake. Give me a list of ingredients.\"\n",
      "  ]\n",
      "}\n",
      "\u001B[36;1m\u001B[1;3m[llm/end]\u001B[0m \u001B[1m[1:chain:RunnableSequence > 2:chain:RunnableParallel<in_the_fridge,recipe> > 3:chain:RunnableSequence > 5:llm:ChatOpenAI] [7.60s] Exiting LLM run with output:\n",
      "\u001B[0m{\n",
      "  \"generations\": [\n",
      "    [\n",
      "      {\n",
      "        \"text\": \"Here is a list of ingredients you will need to bake a classic cheesecake:\\n\\nFor the crust:\\n- 1 ½ cups graham cracker crumbs\\n- ¼ cup granulated sugar\\n- ½ cup unsalted butter, melted\\n\\nFor the filling:\\n- 24 oz (680g) cream cheese, softened\\n- 1 cup granulated sugar\\n- 3 large eggs\\n- 1 tsp vanilla extract\\n- 1 cup sour cream\\n\\nFor the topping (optional):\\n- Fruit preserves or pie filling of your choice (e.g., strawberry, blueberry, cherry)\\n\\nNote: You can also add lemon zest, chocolate chips, or other flavorings to the filling if desired.\\n\\nFor serving:\\n- Whipped cream\\n- Fresh fruits or berries (e.g., strawberries, raspberries)\\n\\nThese are the basic ingredients, but feel free to adjust or add any additional flavors or toppings to suit your preferences.\",\n",
      "        \"generation_info\": {\n",
      "          \"finish_reason\": \"stop\",\n",
      "          \"logprobs\": null\n",
      "        },\n",
      "        \"type\": \"ChatGeneration\",\n",
      "        \"message\": {\n",
      "          \"lc\": 1,\n",
      "          \"type\": \"constructor\",\n",
      "          \"id\": [\n",
      "            \"langchain\",\n",
      "            \"schema\",\n",
      "            \"messages\",\n",
      "            \"AIMessage\"\n",
      "          ],\n",
      "          \"kwargs\": {\n",
      "            \"content\": \"Here is a list of ingredients you will need to bake a classic cheesecake:\\n\\nFor the crust:\\n- 1 ½ cups graham cracker crumbs\\n- ¼ cup granulated sugar\\n- ½ cup unsalted butter, melted\\n\\nFor the filling:\\n- 24 oz (680g) cream cheese, softened\\n- 1 cup granulated sugar\\n- 3 large eggs\\n- 1 tsp vanilla extract\\n- 1 cup sour cream\\n\\nFor the topping (optional):\\n- Fruit preserves or pie filling of your choice (e.g., strawberry, blueberry, cherry)\\n\\nNote: You can also add lemon zest, chocolate chips, or other flavorings to the filling if desired.\\n\\nFor serving:\\n- Whipped cream\\n- Fresh fruits or berries (e.g., strawberries, raspberries)\\n\\nThese are the basic ingredients, but feel free to adjust or add any additional flavors or toppings to suit your preferences.\",\n",
      "            \"additional_kwargs\": {}\n",
      "          }\n",
      "        }\n",
      "      }\n",
      "    ]\n",
      "  ],\n",
      "  \"llm_output\": {\n",
      "    \"token_usage\": {\n",
      "      \"completion_tokens\": 188,\n",
      "      \"prompt_tokens\": 23,\n",
      "      \"total_tokens\": 211\n",
      "    },\n",
      "    \"model_name\": \"gpt-3.5-turbo\",\n",
      "    \"system_fingerprint\": null\n",
      "  },\n",
      "  \"run\": null\n",
      "}\n",
      "\u001B[32;1m\u001B[1;3m[chain/start]\u001B[0m \u001B[1m[1:chain:RunnableSequence > 2:chain:RunnableParallel<in_the_fridge,recipe> > 3:chain:RunnableSequence > 6:parser:StrOutputParser] Entering Parser run with input:\n",
      "\u001B[0m[inputs]\n",
      "\u001B[36;1m\u001B[1;3m[chain/end]\u001B[0m \u001B[1m[1:chain:RunnableSequence > 2:chain:RunnableParallel<in_the_fridge,recipe> > 3:chain:RunnableSequence > 6:parser:StrOutputParser] [1ms] Exiting Parser run with output:\n",
      "\u001B[0m{\n",
      "  \"output\": \"Here is a list of ingredients you will need to bake a classic cheesecake:\\n\\nFor the crust:\\n- 1 ½ cups graham cracker crumbs\\n- ¼ cup granulated sugar\\n- ½ cup unsalted butter, melted\\n\\nFor the filling:\\n- 24 oz (680g) cream cheese, softened\\n- 1 cup granulated sugar\\n- 3 large eggs\\n- 1 tsp vanilla extract\\n- 1 cup sour cream\\n\\nFor the topping (optional):\\n- Fruit preserves or pie filling of your choice (e.g., strawberry, blueberry, cherry)\\n\\nNote: You can also add lemon zest, chocolate chips, or other flavorings to the filling if desired.\\n\\nFor serving:\\n- Whipped cream\\n- Fresh fruits or berries (e.g., strawberries, raspberries)\\n\\nThese are the basic ingredients, but feel free to adjust or add any additional flavors or toppings to suit your preferences.\"\n",
      "}\n",
      "\u001B[36;1m\u001B[1;3m[chain/end]\u001B[0m \u001B[1m[1:chain:RunnableSequence > 2:chain:RunnableParallel<in_the_fridge,recipe> > 3:chain:RunnableSequence] [7.62s] Exiting Chain run with output:\n",
      "\u001B[0m{\n",
      "  \"output\": \"Here is a list of ingredients you will need to bake a classic cheesecake:\\n\\nFor the crust:\\n- 1 ½ cups graham cracker crumbs\\n- ¼ cup granulated sugar\\n- ½ cup unsalted butter, melted\\n\\nFor the filling:\\n- 24 oz (680g) cream cheese, softened\\n- 1 cup granulated sugar\\n- 3 large eggs\\n- 1 tsp vanilla extract\\n- 1 cup sour cream\\n\\nFor the topping (optional):\\n- Fruit preserves or pie filling of your choice (e.g., strawberry, blueberry, cherry)\\n\\nNote: You can also add lemon zest, chocolate chips, or other flavorings to the filling if desired.\\n\\nFor serving:\\n- Whipped cream\\n- Fresh fruits or berries (e.g., strawberries, raspberries)\\n\\nThese are the basic ingredients, but feel free to adjust or add any additional flavors or toppings to suit your preferences.\"\n",
      "}\n",
      "\u001B[36;1m\u001B[1;3m[chain/end]\u001B[0m \u001B[1m[1:chain:RunnableSequence > 2:chain:RunnableParallel<in_the_fridge,recipe>] [7.62s] Exiting Chain run with output:\n",
      "\u001B[0m{\n",
      "  \"in_the_fridge\": \"milk\",\n",
      "  \"recipe\": \"Here is a list of ingredients you will need to bake a classic cheesecake:\\n\\nFor the crust:\\n- 1 ½ cups graham cracker crumbs\\n- ¼ cup granulated sugar\\n- ½ cup unsalted butter, melted\\n\\nFor the filling:\\n- 24 oz (680g) cream cheese, softened\\n- 1 cup granulated sugar\\n- 3 large eggs\\n- 1 tsp vanilla extract\\n- 1 cup sour cream\\n\\nFor the topping (optional):\\n- Fruit preserves or pie filling of your choice (e.g., strawberry, blueberry, cherry)\\n\\nNote: You can also add lemon zest, chocolate chips, or other flavorings to the filling if desired.\\n\\nFor serving:\\n- Whipped cream\\n- Fresh fruits or berries (e.g., strawberries, raspberries)\\n\\nThese are the basic ingredients, but feel free to adjust or add any additional flavors or toppings to suit your preferences.\"\n",
      "}\n",
      "\u001B[32;1m\u001B[1;3m[chain/start]\u001B[0m \u001B[1m[1:chain:RunnableSequence > 7:prompt:ChatPromptTemplate] Entering Prompt run with input:\n",
      "\u001B[0m{\n",
      "  \"in_the_fridge\": \"milk\",\n",
      "  \"recipe\": \"Here is a list of ingredients you will need to bake a classic cheesecake:\\n\\nFor the crust:\\n- 1 ½ cups graham cracker crumbs\\n- ¼ cup granulated sugar\\n- ½ cup unsalted butter, melted\\n\\nFor the filling:\\n- 24 oz (680g) cream cheese, softened\\n- 1 cup granulated sugar\\n- 3 large eggs\\n- 1 tsp vanilla extract\\n- 1 cup sour cream\\n\\nFor the topping (optional):\\n- Fruit preserves or pie filling of your choice (e.g., strawberry, blueberry, cherry)\\n\\nNote: You can also add lemon zest, chocolate chips, or other flavorings to the filling if desired.\\n\\nFor serving:\\n- Whipped cream\\n- Fresh fruits or berries (e.g., strawberries, raspberries)\\n\\nThese are the basic ingredients, but feel free to adjust or add any additional flavors or toppings to suit your preferences.\"\n",
      "}\n",
      "\u001B[36;1m\u001B[1;3m[chain/end]\u001B[0m \u001B[1m[1:chain:RunnableSequence > 7:prompt:ChatPromptTemplate] [1ms] Exiting Prompt run with output:\n",
      "\u001B[0m{\n",
      "  \"lc\": 1,\n",
      "  \"type\": \"constructor\",\n",
      "  \"id\": [\n",
      "    \"langchain\",\n",
      "    \"prompts\",\n",
      "    \"chat\",\n",
      "    \"ChatPromptValue\"\n",
      "  ],\n",
      "  \"kwargs\": {\n",
      "    \"messages\": [\n",
      "      {\n",
      "        \"lc\": 1,\n",
      "        \"type\": \"constructor\",\n",
      "        \"id\": [\n",
      "          \"langchain\",\n",
      "          \"schema\",\n",
      "          \"messages\",\n",
      "          \"HumanMessage\"\n",
      "        ],\n",
      "        \"kwargs\": {\n",
      "          \"content\": \"I have milk, repeat Here is a list of ingredients you will need to bake a classic cheesecake:\\n\\nFor the crust:\\n- 1 ½ cups graham cracker crumbs\\n- ¼ cup granulated sugar\\n- ½ cup unsalted butter, melted\\n\\nFor the filling:\\n- 24 oz (680g) cream cheese, softened\\n- 1 cup granulated sugar\\n- 3 large eggs\\n- 1 tsp vanilla extract\\n- 1 cup sour cream\\n\\nFor the topping (optional):\\n- Fruit preserves or pie filling of your choice (e.g., strawberry, blueberry, cherry)\\n\\nNote: You can also add lemon zest, chocolate chips, or other flavorings to the filling if desired.\\n\\nFor serving:\\n- Whipped cream\\n- Fresh fruits or berries (e.g., strawberries, raspberries)\\n\\nThese are the basic ingredients, but feel free to adjust or add any additional flavors or toppings to suit your preferences. adding to each ingredient if I need to buy it\",\n",
      "          \"additional_kwargs\": {}\n",
      "        }\n",
      "      }\n",
      "    ]\n",
      "  }\n",
      "}\n",
      "\u001B[32;1m\u001B[1;3m[llm/start]\u001B[0m \u001B[1m[1:chain:RunnableSequence > 8:llm:ChatOpenAI] Entering LLM run with input:\n",
      "\u001B[0m{\n",
      "  \"prompts\": [\n",
      "    \"Human: I have milk, repeat Here is a list of ingredients you will need to bake a classic cheesecake:\\n\\nFor the crust:\\n- 1 ½ cups graham cracker crumbs\\n- ¼ cup granulated sugar\\n- ½ cup unsalted butter, melted\\n\\nFor the filling:\\n- 24 oz (680g) cream cheese, softened\\n- 1 cup granulated sugar\\n- 3 large eggs\\n- 1 tsp vanilla extract\\n- 1 cup sour cream\\n\\nFor the topping (optional):\\n- Fruit preserves or pie filling of your choice (e.g., strawberry, blueberry, cherry)\\n\\nNote: You can also add lemon zest, chocolate chips, or other flavorings to the filling if desired.\\n\\nFor serving:\\n- Whipped cream\\n- Fresh fruits or berries (e.g., strawberries, raspberries)\\n\\nThese are the basic ingredients, but feel free to adjust or add any additional flavors or toppings to suit your preferences. adding to each ingredient if I need to buy it\"\n",
      "  ]\n",
      "}\n",
      "\u001B[36;1m\u001B[1;3m[llm/end]\u001B[0m \u001B[1m[1:chain:RunnableSequence > 8:llm:ChatOpenAI] [7.43s] Exiting LLM run with output:\n",
      "\u001B[0m{\n",
      "  \"generations\": [\n",
      "    [\n",
      "      {\n",
      "        \"text\": \"If you need to buy each ingredient, here is a breakdown:\\n\\nFor the crust:\\n- 1 ½ cups graham cracker crumbs\\n- ¼ cup granulated sugar\\n- ½ cup unsalted butter, melted\\n\\nFor the filling:\\n- 24 oz (680g) cream cheese\\n- 1 cup granulated sugar\\n- 3 large eggs\\n- 1 tsp vanilla extract\\n- 1 cup sour cream\\n\\nFor the topping (optional):\\n- Fruit preserves or pie filling of your choice (e.g., strawberry, blueberry, cherry)\\n\\nFor serving:\\n- Whipped cream\\n- Fresh fruits or berries (e.g., strawberries, raspberries)\\n\\nYou may need to buy cream cheese, granulated sugar, eggs, vanilla extract, sour cream, fruit preserves or pie filling, whipped cream, and fresh fruits or berries if you don't already have them.\",\n",
      "        \"generation_info\": {\n",
      "          \"finish_reason\": \"stop\",\n",
      "          \"logprobs\": null\n",
      "        },\n",
      "        \"type\": \"ChatGeneration\",\n",
      "        \"message\": {\n",
      "          \"lc\": 1,\n",
      "          \"type\": \"constructor\",\n",
      "          \"id\": [\n",
      "            \"langchain\",\n",
      "            \"schema\",\n",
      "            \"messages\",\n",
      "            \"AIMessage\"\n",
      "          ],\n",
      "          \"kwargs\": {\n",
      "            \"content\": \"If you need to buy each ingredient, here is a breakdown:\\n\\nFor the crust:\\n- 1 ½ cups graham cracker crumbs\\n- ¼ cup granulated sugar\\n- ½ cup unsalted butter, melted\\n\\nFor the filling:\\n- 24 oz (680g) cream cheese\\n- 1 cup granulated sugar\\n- 3 large eggs\\n- 1 tsp vanilla extract\\n- 1 cup sour cream\\n\\nFor the topping (optional):\\n- Fruit preserves or pie filling of your choice (e.g., strawberry, blueberry, cherry)\\n\\nFor serving:\\n- Whipped cream\\n- Fresh fruits or berries (e.g., strawberries, raspberries)\\n\\nYou may need to buy cream cheese, granulated sugar, eggs, vanilla extract, sour cream, fruit preserves or pie filling, whipped cream, and fresh fruits or berries if you don't already have them.\",\n",
      "            \"additional_kwargs\": {}\n",
      "          }\n",
      "        }\n",
      "      }\n",
      "    ]\n",
      "  ],\n",
      "  \"llm_output\": {\n",
      "    \"token_usage\": {\n",
      "      \"completion_tokens\": 180,\n",
      "      \"prompt_tokens\": 210,\n",
      "      \"total_tokens\": 390\n",
      "    },\n",
      "    \"model_name\": \"gpt-3.5-turbo\",\n",
      "    \"system_fingerprint\": null\n",
      "  },\n",
      "  \"run\": null\n",
      "}\n",
      "\u001B[32;1m\u001B[1;3m[chain/start]\u001B[0m \u001B[1m[1:chain:RunnableSequence > 9:parser:StrOutputParser] Entering Parser run with input:\n",
      "\u001B[0m[inputs]\n",
      "\u001B[36;1m\u001B[1;3m[chain/end]\u001B[0m \u001B[1m[1:chain:RunnableSequence > 9:parser:StrOutputParser] [1ms] Exiting Parser run with output:\n",
      "\u001B[0m{\n",
      "  \"output\": \"If you need to buy each ingredient, here is a breakdown:\\n\\nFor the crust:\\n- 1 ½ cups graham cracker crumbs\\n- ¼ cup granulated sugar\\n- ½ cup unsalted butter, melted\\n\\nFor the filling:\\n- 24 oz (680g) cream cheese\\n- 1 cup granulated sugar\\n- 3 large eggs\\n- 1 tsp vanilla extract\\n- 1 cup sour cream\\n\\nFor the topping (optional):\\n- Fruit preserves or pie filling of your choice (e.g., strawberry, blueberry, cherry)\\n\\nFor serving:\\n- Whipped cream\\n- Fresh fruits or berries (e.g., strawberries, raspberries)\\n\\nYou may need to buy cream cheese, granulated sugar, eggs, vanilla extract, sour cream, fruit preserves or pie filling, whipped cream, and fresh fruits or berries if you don't already have them.\"\n",
      "}\n",
      "\u001B[36;1m\u001B[1;3m[chain/end]\u001B[0m \u001B[1m[1:chain:RunnableSequence] [15.05s] Exiting Chain run with output:\n",
      "\u001B[0m{\n",
      "  \"output\": \"If you need to buy each ingredient, here is a breakdown:\\n\\nFor the crust:\\n- 1 ½ cups graham cracker crumbs\\n- ¼ cup granulated sugar\\n- ½ cup unsalted butter, melted\\n\\nFor the filling:\\n- 24 oz (680g) cream cheese\\n- 1 cup granulated sugar\\n- 3 large eggs\\n- 1 tsp vanilla extract\\n- 1 cup sour cream\\n\\nFor the topping (optional):\\n- Fruit preserves or pie filling of your choice (e.g., strawberry, blueberry, cherry)\\n\\nFor serving:\\n- Whipped cream\\n- Fresh fruits or berries (e.g., strawberries, raspberries)\\n\\nYou may need to buy cream cheese, granulated sugar, eggs, vanilla extract, sour cream, fruit preserves or pie filling, whipped cream, and fresh fruits or berries if you don't already have them.\"\n",
      "}\n",
      "If you need to buy each ingredient, here is a breakdown:\n",
      "\n",
      "For the crust:\n",
      "- 1 ½ cups graham cracker crumbs\n",
      "- ¼ cup granulated sugar\n",
      "- ½ cup unsalted butter, melted\n",
      "\n",
      "For the filling:\n",
      "- 24 oz (680g) cream cheese\n",
      "- 1 cup granulated sugar\n",
      "- 3 large eggs\n",
      "- 1 tsp vanilla extract\n",
      "- 1 cup sour cream\n",
      "\n",
      "For the topping (optional):\n",
      "- Fruit preserves or pie filling of your choice (e.g., strawberry, blueberry, cherry)\n",
      "\n",
      "For serving:\n",
      "- Whipped cream\n",
      "- Fresh fruits or berries (e.g., strawberries, raspberries)\n",
      "\n",
      "You may need to buy cream cheese, granulated sugar, eggs, vanilla extract, sour cream, fruit preserves or pie filling, whipped cream, and fresh fruits or berries if you don't already have them.\n"
     ]
    }
   ]
  },
  {
   "cell_type": "markdown",
   "source": [
    "# Using tools\n",
    "\n",
    "Before it looked like this:\n",
    "\n",
    "```\n",
    "from langchain.agents import AgentType, initialize_agent, load_tools\n",
    "from langchain.llms import OpenAI\n",
    "from langchain.tools import DuckDuckGoSearchRun\n",
    "\n",
    "llm = OpenAI(temperature=0)\n",
    "\n",
    "tools = [DuckDuckGoSearchRun()]\n",
    "\n",
    "agent = initialize_agent(\n",
    "    tools,\n",
    "    llm,\n",
    "    agent=AgentType.ZERO_SHOT_REACT_DESCRIPTION,\n",
    "    verbose=True\n",
    ")\n",
    "```"
   ],
   "metadata": {
    "id": "F-454Ok_1HbR"
   }
  },
  {
   "cell_type": "code",
   "source": [
    "!pip install --upgrade --quiet  langchain langchain-openai duckduckgo-search"
   ],
   "metadata": {
    "id": "6jlynjZS1IG5",
    "outputId": "c5d8c0f7-0e73-4034-bb64-dad85c36ff5c",
    "colab": {
     "base_uri": "https://localhost:8080/"
    }
   },
   "execution_count": 27,
   "outputs": [
    {
     "output_type": "stream",
     "name": "stdout",
     "text": [
      "\u001B[2K     \u001B[90m━━━━━━━━━━━━━━━━━━━━━━━━━━━━━━━━━━━━━━━━\u001B[0m \u001B[32m7.2/7.2 MB\u001B[0m \u001B[31m21.4 MB/s\u001B[0m eta \u001B[36m0:00:00\u001B[0m\n",
      "\u001B[?25h"
     ]
    }
   ]
  },
  {
   "cell_type": "markdown",
   "source": [
    "In the new version it looks like this:\n"
   ],
   "metadata": {
    "id": "01UR4uZs1YCL"
   }
  },
  {
   "cell_type": "code",
   "source": [
    "from langchain.tools import DuckDuckGoSearchRun\n",
    "from langchain_core.output_parsers import StrOutputParser\n",
    "from langchain_core.prompts import ChatPromptTemplate\n",
    "from langchain_openai import ChatOpenAI\n",
    "\n",
    "search = DuckDuckGoSearchRun()\n",
    "\n",
    "template = \"\"\"turn the following user input into a search query for a search engine:\n",
    "\n",
    "{input}\"\"\"\n",
    "prompt = ChatPromptTemplate.from_template(template)\n",
    "\n",
    "model = ChatOpenAI()\n",
    "\n",
    "chain = prompt | model | StrOutputParser() | search\n",
    "\n",
    "chain.invoke({\"input\": \"What are the most famous K-pop bands?\"})"
   ],
   "metadata": {
    "id": "aCdaxuFD1Nbn",
    "outputId": "4072367c-0283-4bcf-c6e7-26943245d822",
    "colab": {
     "base_uri": "https://localhost:8080/",
     "height": 139
    }
   },
   "execution_count": 29,
   "outputs": [
    {
     "output_type": "execute_result",
     "data": {
      "text/plain": [
       "'While famous groups like BTS and Blackpink have achieved global success, there are always rising stars set on becoming the most popular K-pop group ever. Vote up the top K-pop groups of 2021, and then check out how many of these underrated K-pop groups you know! Most divisive: EXO-CBX 1 BTS Big Hit Music (HYBE Labels) 95,793 votes Sports #Alicia Keys Griff COLLECTION46 LISTS The Best of K-pop The Best K-pop Boy Groups Of All Time Over 95.8K Ranker voters have come together to rank this list of The Best K-pop Boy Groups Of All Time Vote up your favorite Kpop boy bands and groups! 1. BTS BTS (방탄소년단) \\'Butter\\' Official MV There\\'s no talking about K-pop without talking about BTS. Formed in 2013, the band—originally named the Bangtan Boys—has been going strong ever since. BTS is arguably the most popular K-pop group internationally, earning record-breaking album sales and even a Grammy nomination.BLACKPINK is one of the most successful K-pop girl groups, known for their catchy songs and fierce style. 30 JYP Entertainment As one of K-pop\\'s most iconic girl groups, Wonder Girls made history with their infectious tunes and captivating visuals while signed to JYP Entertainment. Mega-hits like \"Nobody\" and \"Tell Me\" propeled them to global stardom, earning them multiple Song of the Year awards at major ceremonies.'"
      ],
      "application/vnd.google.colaboratory.intrinsic+json": {
       "type": "string"
      }
     },
     "metadata": {},
     "execution_count": 29
    }
   ]
  },
  {
   "cell_type": "markdown",
   "source": [
    "# Using memory\n",
    "\n",
    "Before\n",
    "\n",
    "```\n",
    "from langchain.agents import ZeroShotAgent, Tool, AgentExecutor\n",
    "from langchain.memory import ConversationBufferMemory\n",
    "from langchain import OpenAI, LLMChain\n",
    "\n",
    "\n",
    "prefix = \"\"\"Have a conversation with a human, answering the following \"\"\"\\\n",
    "    \"\"\"questions as best you can. You have access to the following tools:\"\"\"\n",
    "suffix = \"\"\"Begin!\"\n",
    "\n",
    "{chat_history}\n",
    "Question: {input}\n",
    "{agent_scratchpad}\"\"\"\n",
    "\n",
    "prompt = ZeroShotAgent.create_prompt(\n",
    "    tools,\n",
    "    prefix=prefix,\n",
    "    suffix=suffix,\n",
    "    input_variables=[\"input\", \"chat_history\", \"agent_scratchpad\"],\n",
    ")\n",
    "memory = ConversationBufferMemory(memory_key=\"chat_history\")\n",
    "\n",
    "llm_chain = LLMChain(llm=OpenAI(), prompt=prompt)\n",
    "agent = ZeroShotAgent(\n",
    "    llm_chain=llm_chain,\n",
    "    tools=tools,\n",
    "    verbose=True\n",
    ")\n",
    "agent_chain = AgentExecutor.from_agent_and_tools(\n",
    "    agent=agent, tools=tools, verbose=True, memory=memory\n",
    ")\n",
    "```"
   ],
   "metadata": {
    "id": "d7NwlpOb2S7y"
   }
  },
  {
   "cell_type": "code",
   "source": [
    "from operator import itemgetter\n",
    "\n",
    "from langchain.memory import ConversationBufferMemory\n",
    "from langchain_core.prompts import ChatPromptTemplate, MessagesPlaceholder\n",
    "from langchain_core.runnables import RunnableLambda, RunnablePassthrough\n",
    "from langchain_openai import ChatOpenAI\n",
    "\n",
    "model = ChatOpenAI()\n",
    "prompt = ChatPromptTemplate.from_messages(\n",
    "    [\n",
    "        (\"system\", \"You are a helpful chatbot\"),\n",
    "        MessagesPlaceholder(variable_name=\"history\"),\n",
    "        (\"human\", \"{input}\"),\n",
    "    ]\n",
    ")\n",
    "\n",
    "memory = ConversationBufferMemory(return_messages=True)\n",
    "\n",
    "chain = (\n",
    "    RunnablePassthrough.assign(\n",
    "        history=RunnableLambda(memory.load_memory_variables) | itemgetter(\"history\")\n",
    "    )\n",
    "    | prompt\n",
    "    | model\n",
    ")"
   ],
   "metadata": {
    "id": "KM_VRa4B2I2M"
   },
   "execution_count": 30,
   "outputs": []
  },
  {
   "cell_type": "code",
   "source": [
    "inputs = {\"input\": \"I want to get a cat, do you think it's a good idea?\"}\n",
    "response = chain.invoke(inputs)\n",
    "response"
   ],
   "metadata": {
    "id": "qYlde-Y223nc",
    "outputId": "e4b70d71-938c-4c7a-9f13-54d5bd3e951e",
    "colab": {
     "base_uri": "https://localhost:8080/"
    }
   },
   "execution_count": 34,
   "outputs": [
    {
     "output_type": "execute_result",
     "data": {
      "text/plain": [
       "AIMessage(content=\"As an AI, I don't have personal opinions, but I can provide you with some information to help you make an informed decision. Getting a cat can be a wonderful experience for many people. Cats can provide companionship, reduce stress, and bring joy to your life. However, owning a cat also comes with responsibilities. You will need to provide proper care, including feeding, grooming, and regular veterinary visits. You should also consider if you have enough time and resources to devote to a cat's needs, including playtime and creating a safe environment for them. Additionally, if you have any allergies or live in a place with restrictions on pet ownership, those factors should be taken into account as well. Ultimately, it's important to consider your lifestyle, commitment, and ability to care for a cat before making a decision.\")"
      ]
     },
     "metadata": {},
     "execution_count": 34
    }
   ]
  },
  {
   "cell_type": "code",
   "source": [
    "memory.save_context(inputs, {\"output\": response.content})"
   ],
   "metadata": {
    "id": "TKRQKlEx2997"
   },
   "execution_count": 37,
   "outputs": []
  },
  {
   "cell_type": "code",
   "source": [
    "inputs = {\"input\": \"I want it, what would be a good name for it?\"}\n",
    "response = chain.invoke(inputs)\n",
    "response"
   ],
   "metadata": {
    "id": "cvpn4xjF4s3X",
    "outputId": "9e06aaf1-49ce-45c9-8f48-7600ec7e6b78",
    "colab": {
     "base_uri": "https://localhost:8080/"
    }
   },
   "execution_count": 38,
   "outputs": [
    {
     "output_type": "execute_result",
     "data": {
      "text/plain": [
       "AIMessage(content='Choosing a name for your cat can be a fun and creative process! Here are a few suggestions to get you started:\\n\\n1. Whiskers\\n2. Luna\\n3. Oliver\\n4. Bella\\n5. Simba\\n6. Nala\\n7. Charlie\\n8. Lucy\\n9. Max\\n10. Daisy\\n\\nRemember, the perfect name for your cat is personal and can reflect their personality, appearance, or any other qualities that you find endearing. Take your time to explore different options and choose a name that resonates with you and your new furry friend.')"
      ]
     },
     "metadata": {},
     "execution_count": 38
    }
   ]
  }
 ]
}
