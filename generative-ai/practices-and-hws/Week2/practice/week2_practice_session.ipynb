{
 "cells": [
  {
   "cell_type": "markdown",
   "metadata": {
    "id": "view-in-github",
    "colab_type": "text"
   },
   "source": [
    "<a href=\"https://colab.research.google.com/github/AlexUmnov/genai_course/blob/main/week2_llm_agents/seminar.ipynb\" target=\"_parent\"><img src=\"https://colab.research.google.com/assets/colab-badge.svg\" alt=\"Open In Colab\"/></a>"
   ]
  },
  {
   "cell_type": "markdown",
   "source": [
    "In this week's practice session we'll learn:\n",
    "\n",
    "- How to use LangChain, one of the most popular library to simplify LLM interaction;\n",
    "- How to add plugins to an LLM with LangChain;\n",
    "- How to interact with a database using an LLM."
   ],
   "metadata": {
    "id": "VUADqJGLqxKm"
   }
  },
  {
   "cell_type": "markdown",
   "metadata": {
    "id": "dCb0dbvH6AQ0"
   },
   "source": [
    "# LangChain\n",
    "\n",
    "LangChain is a handy library which supplies a whole infrastucture around LLMs (both open source and available by API) allowing to quickly establish LLM-powered services. It can help you with many LLM related tasks, from prompt optimisation to creating multi-call LLM agents.\n",
    "\n",
    "Let's see how to use LangChain. First of all, download the library:"
   ]
  },
  {
   "cell_type": "code",
   "source": [
    "import os\n",
    "\n",
    "open_ai_api_key = open('../../keys/.open-ai-api-key').read().strip()\n",
    "os.environ['OPENAI_API_KEY'] = open_ai_api_key"
   ],
   "metadata": {
    "id": "SGGArYZZ32aO",
    "ExecuteTime": {
     "end_time": "2024-01-29T17:22:56.294580Z",
     "start_time": "2024-01-29T17:22:56.267075Z"
    }
   },
   "execution_count": 2,
   "outputs": []
  },
  {
   "cell_type": "code",
   "execution_count": 3,
   "metadata": {
    "id": "5dx0eA456AQ0",
    "outputId": "52b31531-93d5-4702-cd50-46e049fd9a36",
    "colab": {
     "base_uri": "https://localhost:8080/"
    },
    "ExecuteTime": {
     "end_time": "2024-01-29T17:23:15.942354Z",
     "start_time": "2024-01-29T17:22:56.927106Z"
    }
   },
   "outputs": [
    {
     "name": "stdout",
     "output_type": "stream",
     "text": [
      "Requirement already satisfied: openai in /Users/es/Desktop/ml-playground/generative-ai/practices-and-hws/venv/lib/python3.9/site-packages (1.9.0)\r\n",
      "Collecting langchain\r\n",
      "  Downloading langchain-0.1.4-py3-none-any.whl.metadata (13 kB)\r\n",
      "Requirement already satisfied: anyio<5,>=3.5.0 in /Users/es/Desktop/ml-playground/generative-ai/practices-and-hws/venv/lib/python3.9/site-packages (from openai) (4.2.0)\r\n",
      "Requirement already satisfied: distro<2,>=1.7.0 in /Users/es/Desktop/ml-playground/generative-ai/practices-and-hws/venv/lib/python3.9/site-packages (from openai) (1.9.0)\r\n",
      "Requirement already satisfied: httpx<1,>=0.23.0 in /Users/es/Desktop/ml-playground/generative-ai/practices-and-hws/venv/lib/python3.9/site-packages (from openai) (0.26.0)\r\n",
      "Requirement already satisfied: pydantic<3,>=1.9.0 in /Users/es/Desktop/ml-playground/generative-ai/practices-and-hws/venv/lib/python3.9/site-packages (from openai) (2.5.3)\r\n",
      "Requirement already satisfied: sniffio in /Users/es/Desktop/ml-playground/generative-ai/practices-and-hws/venv/lib/python3.9/site-packages (from openai) (1.3.0)\r\n",
      "Requirement already satisfied: tqdm>4 in /Users/es/Desktop/ml-playground/generative-ai/practices-and-hws/venv/lib/python3.9/site-packages (from openai) (4.66.1)\r\n",
      "Requirement already satisfied: typing-extensions<5,>=4.7 in /Users/es/Desktop/ml-playground/generative-ai/practices-and-hws/venv/lib/python3.9/site-packages (from openai) (4.9.0)\r\n",
      "Requirement already satisfied: PyYAML>=5.3 in /Users/es/Desktop/ml-playground/generative-ai/practices-and-hws/venv/lib/python3.9/site-packages (from langchain) (6.0.1)\r\n",
      "Collecting SQLAlchemy<3,>=1.4 (from langchain)\r\n",
      "  Downloading SQLAlchemy-2.0.25-cp39-cp39-macosx_11_0_arm64.whl.metadata (9.6 kB)\r\n",
      "Collecting aiohttp<4.0.0,>=3.8.3 (from langchain)\r\n",
      "  Downloading aiohttp-3.9.2-cp39-cp39-macosx_11_0_arm64.whl.metadata (7.4 kB)\r\n",
      "Collecting async-timeout<5.0.0,>=4.0.0 (from langchain)\r\n",
      "  Using cached async_timeout-4.0.3-py3-none-any.whl.metadata (4.2 kB)\r\n",
      "Collecting dataclasses-json<0.7,>=0.5.7 (from langchain)\r\n",
      "  Downloading dataclasses_json-0.6.3-py3-none-any.whl.metadata (25 kB)\r\n",
      "Collecting jsonpatch<2.0,>=1.33 (from langchain)\r\n",
      "  Downloading jsonpatch-1.33-py2.py3-none-any.whl.metadata (3.0 kB)\r\n",
      "Collecting langchain-community<0.1,>=0.0.14 (from langchain)\r\n",
      "  Downloading langchain_community-0.0.16-py3-none-any.whl.metadata (7.8 kB)\r\n",
      "Collecting langchain-core<0.2,>=0.1.16 (from langchain)\r\n",
      "  Downloading langchain_core-0.1.16-py3-none-any.whl.metadata (6.0 kB)\r\n",
      "Collecting langsmith<0.1,>=0.0.83 (from langchain)\r\n",
      "  Downloading langsmith-0.0.84-py3-none-any.whl.metadata (10 kB)\r\n",
      "Requirement already satisfied: numpy<2,>=1 in /Users/es/Desktop/ml-playground/generative-ai/practices-and-hws/venv/lib/python3.9/site-packages (from langchain) (1.26.3)\r\n",
      "Requirement already satisfied: requests<3,>=2 in /Users/es/Desktop/ml-playground/generative-ai/practices-and-hws/venv/lib/python3.9/site-packages (from langchain) (2.31.0)\r\n",
      "Collecting tenacity<9.0.0,>=8.1.0 (from langchain)\r\n",
      "  Using cached tenacity-8.2.3-py3-none-any.whl.metadata (1.0 kB)\r\n",
      "Collecting aiosignal>=1.1.2 (from aiohttp<4.0.0,>=3.8.3->langchain)\r\n",
      "  Using cached aiosignal-1.3.1-py3-none-any.whl (7.6 kB)\r\n",
      "Requirement already satisfied: attrs>=17.3.0 in /Users/es/Desktop/ml-playground/generative-ai/practices-and-hws/venv/lib/python3.9/site-packages (from aiohttp<4.0.0,>=3.8.3->langchain) (23.2.0)\r\n",
      "Collecting frozenlist>=1.1.1 (from aiohttp<4.0.0,>=3.8.3->langchain)\r\n",
      "  Downloading frozenlist-1.4.1-cp39-cp39-macosx_11_0_arm64.whl.metadata (12 kB)\r\n",
      "Collecting multidict<7.0,>=4.5 (from aiohttp<4.0.0,>=3.8.3->langchain)\r\n",
      "  Downloading multidict-6.0.4-cp39-cp39-macosx_11_0_arm64.whl (29 kB)\r\n",
      "Collecting yarl<2.0,>=1.0 (from aiohttp<4.0.0,>=3.8.3->langchain)\r\n",
      "  Downloading yarl-1.9.4-cp39-cp39-macosx_11_0_arm64.whl.metadata (31 kB)\r\n",
      "Requirement already satisfied: idna>=2.8 in /Users/es/Desktop/ml-playground/generative-ai/practices-and-hws/venv/lib/python3.9/site-packages (from anyio<5,>=3.5.0->openai) (3.6)\r\n",
      "Requirement already satisfied: exceptiongroup>=1.0.2 in /Users/es/Desktop/ml-playground/generative-ai/practices-and-hws/venv/lib/python3.9/site-packages (from anyio<5,>=3.5.0->openai) (1.2.0)\r\n",
      "Collecting marshmallow<4.0.0,>=3.18.0 (from dataclasses-json<0.7,>=0.5.7->langchain)\r\n",
      "  Downloading marshmallow-3.20.2-py3-none-any.whl.metadata (7.5 kB)\r\n",
      "Collecting typing-inspect<1,>=0.4.0 (from dataclasses-json<0.7,>=0.5.7->langchain)\r\n",
      "  Downloading typing_inspect-0.9.0-py3-none-any.whl.metadata (1.5 kB)\r\n",
      "Requirement already satisfied: certifi in /Users/es/Desktop/ml-playground/generative-ai/practices-and-hws/venv/lib/python3.9/site-packages (from httpx<1,>=0.23.0->openai) (2023.11.17)\r\n",
      "Requirement already satisfied: httpcore==1.* in /Users/es/Desktop/ml-playground/generative-ai/practices-and-hws/venv/lib/python3.9/site-packages (from httpx<1,>=0.23.0->openai) (1.0.2)\r\n",
      "Requirement already satisfied: h11<0.15,>=0.13 in /Users/es/Desktop/ml-playground/generative-ai/practices-and-hws/venv/lib/python3.9/site-packages (from httpcore==1.*->httpx<1,>=0.23.0->openai) (0.14.0)\r\n",
      "Requirement already satisfied: jsonpointer>=1.9 in /Users/es/Desktop/ml-playground/generative-ai/practices-and-hws/venv/lib/python3.9/site-packages (from jsonpatch<2.0,>=1.33->langchain) (2.4)\r\n",
      "Requirement already satisfied: packaging<24.0,>=23.2 in /Users/es/Desktop/ml-playground/generative-ai/practices-and-hws/venv/lib/python3.9/site-packages (from langchain-core<0.2,>=0.1.16->langchain) (23.2)\r\n",
      "Requirement already satisfied: annotated-types>=0.4.0 in /Users/es/Desktop/ml-playground/generative-ai/practices-and-hws/venv/lib/python3.9/site-packages (from pydantic<3,>=1.9.0->openai) (0.6.0)\r\n",
      "Requirement already satisfied: pydantic-core==2.14.6 in /Users/es/Desktop/ml-playground/generative-ai/practices-and-hws/venv/lib/python3.9/site-packages (from pydantic<3,>=1.9.0->openai) (2.14.6)\r\n",
      "Requirement already satisfied: charset-normalizer<4,>=2 in /Users/es/Desktop/ml-playground/generative-ai/practices-and-hws/venv/lib/python3.9/site-packages (from requests<3,>=2->langchain) (3.3.2)\r\n",
      "Requirement already satisfied: urllib3<3,>=1.21.1 in /Users/es/Desktop/ml-playground/generative-ai/practices-and-hws/venv/lib/python3.9/site-packages (from requests<3,>=2->langchain) (2.1.0)\r\n",
      "Collecting mypy-extensions>=0.3.0 (from typing-inspect<1,>=0.4.0->dataclasses-json<0.7,>=0.5.7->langchain)\r\n",
      "  Downloading mypy_extensions-1.0.0-py3-none-any.whl (4.7 kB)\r\n",
      "Downloading langchain-0.1.4-py3-none-any.whl (803 kB)\r\n",
      "\u001B[2K   \u001B[90m━━━━━━━━━━━━━━━━━━━━━━━━━━━━━━━━━━━━━━━\u001B[0m \u001B[32m803.6/803.6 kB\u001B[0m \u001B[31m240.1 kB/s\u001B[0m eta \u001B[36m0:00:00\u001B[0m00:01\u001B[0m00:01\u001B[0m\r\n",
      "\u001B[?25hDownloading aiohttp-3.9.2-cp39-cp39-macosx_11_0_arm64.whl (387 kB)\r\n",
      "\u001B[2K   \u001B[90m━━━━━━━━━━━━━━━━━━━━━━━━━━━━━━━━━━━━━━━━\u001B[0m \u001B[32m387.8/387.8 kB\u001B[0m \u001B[31m2.2 MB/s\u001B[0m eta \u001B[36m0:00:00\u001B[0ma \u001B[36m0:00:01\u001B[0m\r\n",
      "\u001B[?25hUsing cached async_timeout-4.0.3-py3-none-any.whl (5.7 kB)\r\n",
      "Downloading dataclasses_json-0.6.3-py3-none-any.whl (28 kB)\r\n",
      "Downloading jsonpatch-1.33-py2.py3-none-any.whl (12 kB)\r\n",
      "Downloading langchain_community-0.0.16-py3-none-any.whl (1.6 MB)\r\n",
      "\u001B[2K   \u001B[90m━━━━━━━━━━━━━━━━━━━━━━━━━━━━━━━━━━━━━━━━\u001B[0m \u001B[32m1.6/1.6 MB\u001B[0m \u001B[31m2.4 MB/s\u001B[0m eta \u001B[36m0:00:00\u001B[0ma \u001B[36m0:00:01\u001B[0m\r\n",
      "\u001B[?25hDownloading langchain_core-0.1.16-py3-none-any.whl (230 kB)\r\n",
      "\u001B[2K   \u001B[90m━━━━━━━━━━━━━━━━━━━━━━━━━━━━━━━━━━━━━━━━\u001B[0m \u001B[32m230.3/230.3 kB\u001B[0m \u001B[31m2.6 MB/s\u001B[0m eta \u001B[36m0:00:00\u001B[0ma \u001B[36m0:00:01\u001B[0m\r\n",
      "\u001B[?25hDownloading langsmith-0.0.84-py3-none-any.whl (53 kB)\r\n",
      "\u001B[2K   \u001B[90m━━━━━━━━━━━━━━━━━━━━━━━━━━━━━━━━━━━━━━━━\u001B[0m \u001B[32m54.0/54.0 kB\u001B[0m \u001B[31m2.6 MB/s\u001B[0m eta \u001B[36m0:00:00\u001B[0m\r\n",
      "\u001B[?25hDownloading SQLAlchemy-2.0.25-cp39-cp39-macosx_11_0_arm64.whl (2.1 MB)\r\n",
      "\u001B[2K   \u001B[90m━━━━━━━━━━━━━━━━━━━━━━━━━━━━━━━━━━━━━━━━\u001B[0m \u001B[32m2.1/2.1 MB\u001B[0m \u001B[31m2.8 MB/s\u001B[0m eta \u001B[36m0:00:00\u001B[0m00:01\u001B[0m00:01\u001B[0m\r\n",
      "\u001B[?25hUsing cached tenacity-8.2.3-py3-none-any.whl (24 kB)\r\n",
      "Downloading frozenlist-1.4.1-cp39-cp39-macosx_11_0_arm64.whl (53 kB)\r\n",
      "\u001B[2K   \u001B[90m━━━━━━━━━━━━━━━━━━━━━━━━━━━━━━━━━━━━━━━━\u001B[0m \u001B[32m53.7/53.7 kB\u001B[0m \u001B[31m2.5 MB/s\u001B[0m eta \u001B[36m0:00:00\u001B[0m\r\n",
      "\u001B[?25hDownloading marshmallow-3.20.2-py3-none-any.whl (49 kB)\r\n",
      "\u001B[2K   \u001B[90m━━━━━━━━━━━━━━━━━━━━━━━━━━━━━━━━━━━━━━━━\u001B[0m \u001B[32m49.4/49.4 kB\u001B[0m \u001B[31m3.9 MB/s\u001B[0m eta \u001B[36m0:00:00\u001B[0m\r\n",
      "\u001B[?25hDownloading typing_inspect-0.9.0-py3-none-any.whl (8.8 kB)\r\n",
      "Downloading yarl-1.9.4-cp39-cp39-macosx_11_0_arm64.whl (81 kB)\r\n",
      "\u001B[2K   \u001B[90m━━━━━━━━━━━━━━━━━━━━━━━━━━━━━━━━━━━━━━━━\u001B[0m \u001B[32m81.8/81.8 kB\u001B[0m \u001B[31m2.8 MB/s\u001B[0m eta \u001B[36m0:00:00\u001B[0m\r\n",
      "\u001B[?25hInstalling collected packages: tenacity, SQLAlchemy, mypy-extensions, multidict, marshmallow, jsonpatch, frozenlist, async-timeout, yarl, typing-inspect, aiosignal, langsmith, dataclasses-json, aiohttp, langchain-core, langchain-community, langchain\r\n",
      "Successfully installed SQLAlchemy-2.0.25 aiohttp-3.9.2 aiosignal-1.3.1 async-timeout-4.0.3 dataclasses-json-0.6.3 frozenlist-1.4.1 jsonpatch-1.33 langchain-0.1.4 langchain-community-0.0.16 langchain-core-0.1.16 langsmith-0.0.84 marshmallow-3.20.2 multidict-6.0.4 mypy-extensions-1.0.0 tenacity-8.2.3 typing-inspect-0.9.0 yarl-1.9.4\r\n"
     ]
    }
   ],
   "source": [
    "!pip install openai langchain"
   ]
  },
  {
   "cell_type": "markdown",
   "source": [
    "The easiest thing you can do with LangChain is just calling an LLM.  We'll do it for OpenAI API:\n",
    "\n",
    "Note: The base model for OpenAI class is `text-davinci-003`, the significance of that will become apparent later"
   ],
   "metadata": {
    "id": "54DvPP6bHeRR"
   }
  },
  {
   "cell_type": "code",
   "execution_count": 4,
   "metadata": {
    "id": "xspBOmsx6AQ1",
    "ExecuteTime": {
     "end_time": "2024-01-29T17:23:22.784346Z",
     "start_time": "2024-01-29T17:23:20.454486Z"
    }
   },
   "outputs": [
    {
     "name": "stderr",
     "output_type": "stream",
     "text": [
      "/Users/es/Desktop/ml-playground/generative-ai/practices-and-hws/venv/lib/python3.9/site-packages/urllib3/__init__.py:34: NotOpenSSLWarning: urllib3 v2 only supports OpenSSL 1.1.1+, currently the 'ssl' module is compiled with 'LibreSSL 2.8.3'. See: https://github.com/urllib3/urllib3/issues/3020\n",
      "  warnings.warn(\n",
      "/Users/es/Desktop/ml-playground/generative-ai/practices-and-hws/venv/lib/python3.9/site-packages/langchain_core/_api/deprecation.py:117: LangChainDeprecationWarning: The class `langchain_community.llms.openai.OpenAI` was deprecated in langchain-community 0.0.10 and will be removed in 0.2.0. An updated version of the class exists in the langchain-openai package and should be used instead. To use it run `pip install -U langchain-openai` and import as `from langchain_openai import OpenAI`.\n",
      "  warn_deprecated(\n"
     ]
    }
   ],
   "source": [
    "from langchain.llms import OpenAI\n",
    "\n",
    "llm = OpenAI()"
   ]
  },
  {
   "cell_type": "code",
   "execution_count": 5,
   "metadata": {
    "id": "1etZ63Oi6AQ1",
    "outputId": "1139bfa9-9016-48ca-89d0-2d721b44abb8",
    "colab": {
     "base_uri": "https://localhost:8080/"
    },
    "ExecuteTime": {
     "end_time": "2024-01-29T17:23:34.339316Z",
     "start_time": "2024-01-29T17:23:29.594725Z"
    }
   },
   "outputs": [
    {
     "name": "stderr",
     "output_type": "stream",
     "text": [
      "/Users/es/Desktop/ml-playground/generative-ai/practices-and-hws/venv/lib/python3.9/site-packages/langchain_core/_api/deprecation.py:117: LangChainDeprecationWarning: The function `predict` was deprecated in LangChain 0.1.7 and will be removed in 0.2.0. Use invoke instead.\n",
      "  warn_deprecated(\n"
     ]
    },
    {
     "name": "stdout",
     "output_type": "stream",
     "text": [
      " instinct and behavior. \n",
      "\n",
      "Cats and dogs are both popular domestic pets, but they have many differences in terms of their natural instincts and behaviors.\n",
      "\n",
      "Instinct refers to a natural, innate behavior that an animal possesses, while behavior refers to actions that an animal learns and displays through experience and training.\n",
      "\n",
      "Cats are solitary hunters by nature and have a strong independent streak. They are known for their agility, quick reflexes, and stealthy hunting skills. Cats are also known for their grooming habits and spend a significant amount of time cleaning themselves. They are also relatively low maintenance and do not require as much attention or exercise as dogs.\n",
      "\n",
      "On the other hand, dogs are social animals that live and hunt in packs. They have a strong pack mentality and are highly trainable. Dogs are also known for their loyalty and protective nature, making them great companions and guard animals. They require regular exercise and attention from their owners to stay happy and healthy.\n",
      "\n",
      "In terms of behavior, cats are often seen as more aloof and independent, while dogs are more sociable and dependent on their owners. Cats are also known for their ability to jump and climb, while dogs are better at running and chasing.\n",
      "\n",
      "Overall, the main difference between cats and dogs is their natural instincts and behaviors. While cats and dogs\n"
     ]
    }
   ],
   "source": [
    "print(llm.predict(\n",
    "    \"What is the difference between cats and dogs? In two words:\"\n",
    "))"
   ]
  },
  {
   "cell_type": "markdown",
   "metadata": {
    "id": "ZsUuk0l56AQ1"
   },
   "source": [
    "As you can see, the interface is already much simpler, compared to writing it on your own.\n",
    "\n",
    "LangChain also destinguishes between LLM's and Chat models.\n",
    "\n",
    "A difference is very subtle and mostly affect the format in which you pass data. LLM's are a pure text completion models, which means they input text and output text. Where is ChatModels work on a list of ChatMessages, which can be AIMessage, HumanMessage or SystemMessage (this difference we covered in week 1) and return an AIMessage.\n",
    "\n",
    "Newer OpenAI only implement chat interface, for example gpt-3.5-turbo, gpt-4, etc. This means, that you cannot use them as an LLM.\n",
    "\n",
    "Default for ChatOpenAI is `gpt-3.5-turbo`"
   ]
  },
  {
   "cell_type": "code",
   "execution_count": 9,
   "metadata": {
    "id": "7mnscJPR6AQ1",
    "outputId": "627d92d0-be41-4a92-c957-467e367da80e",
    "colab": {
     "base_uri": "https://localhost:8080/"
    },
    "ExecuteTime": {
     "end_time": "2024-01-29T17:26:01.191837Z",
     "start_time": "2024-01-29T17:25:59.960883Z"
    }
   },
   "outputs": [
    {
     "data": {
      "text/plain": "AIMessage(content='Behavior, companionship')"
     },
     "execution_count": 9,
     "metadata": {},
     "output_type": "execute_result"
    }
   ],
   "source": [
    "from langchain_openai import ChatOpenAI\n",
    "from langchain.schema import (\n",
    "    AIMessage,\n",
    "    HumanMessage,\n",
    "    SystemMessage\n",
    ")\n",
    "\n",
    "chat = ChatOpenAI()\n",
    "chat.predict_messages([\n",
    "    HumanMessage(content=\"In two words what's the difference \"\\\n",
    "        \"between Cats and Dogs?\")\n",
    "])"
   ]
  },
  {
   "cell_type": "markdown",
   "source": [
    "Note: Draw your attention to the fact that we received a `AIMessage` instead of a string"
   ],
   "metadata": {
    "id": "D3pUViKnaDlC"
   }
  },
  {
   "cell_type": "markdown",
   "metadata": {
    "id": "QxQsTqfV6AQ2"
   },
   "source": [
    "### Prompt templates\n",
    "\n",
    "A useful feature of LangChain is Prompt templates.\n",
    "\n",
    "If you need to use the same prompt structure with different parameters, prompt templates can save you from the text duplication. See, for example:"
   ]
  },
  {
   "cell_type": "code",
   "execution_count": 11,
   "metadata": {
    "id": "w8rAkutU6AQ2",
    "outputId": "d39c0917-860c-4b1b-dd65-554405b99e67",
    "colab": {
     "base_uri": "https://localhost:8080/",
     "height": 35
    },
    "ExecuteTime": {
     "end_time": "2024-01-29T17:27:30.602607Z",
     "start_time": "2024-01-29T17:27:30.574569Z"
    }
   },
   "outputs": [
    {
     "data": {
      "text/plain": "'What is the national cousine of Australia?'"
     },
     "execution_count": 11,
     "metadata": {},
     "output_type": "execute_result"
    }
   ],
   "source": [
    "from langchain.prompts import PromptTemplate\n",
    "\n",
    "prompt = PromptTemplate.from_template(\n",
    "    \"What is the national cousine of {country}?\"\n",
    ")\n",
    "prompt.format(country=\"Australia\")"
   ]
  },
  {
   "cell_type": "markdown",
   "metadata": {
    "id": "XPUcVsiP6AQ2"
   },
   "source": [
    "Now our imaginary user needs only to select a country instead of creating a whole prompt."
   ]
  },
  {
   "cell_type": "markdown",
   "source": [
    "### Chaining\n",
    "\n",
    "One of the main pillars of LangChain is the concept of chaining, that is of combining several LLM calls, external function calls, etc.\n",
    "\n",
    "Much like you combine layers in neural networks, but here we have a much more diverse set of tools.\n",
    "\n",
    "A very basic chain consists of prompt template and an LLM call. It's almost like a \"function\" for an LLM:"
   ],
   "metadata": {
    "id": "xT5bRZBfYfk3"
   }
  },
  {
   "cell_type": "code",
   "execution_count": 13,
   "metadata": {
    "id": "xnP3cxER6AQ2",
    "outputId": "862f1e7b-d3e7-49a0-c632-c0a02433f8cc",
    "colab": {
     "base_uri": "https://localhost:8080/",
     "height": 88
    },
    "ExecuteTime": {
     "end_time": "2024-01-29T17:27:49.713240Z",
     "start_time": "2024-01-29T17:27:48.163793Z"
    }
   },
   "outputs": [
    {
     "data": {
      "text/plain": "{'country': 'Australia',\n 'text': '\\n\\nThe national cuisine of Australia is often referred to as \"modern Australian cuisine\" or \"Australian fusion cuisine.\" It is a diverse blend of influences from Indigenous Australian, British, European, and Asian cuisines. Some popular dishes include meat pies, fish and chips, barbecue, and pavlova.'}"
     },
     "execution_count": 13,
     "metadata": {},
     "output_type": "execute_result"
    }
   ],
   "source": [
    "from langchain.chains import LLMChain\n",
    "\n",
    "chain = LLMChain(llm=llm, prompt=prompt)\n",
    "chain.invoke(\"Australia\")"
   ]
  },
  {
   "cell_type": "markdown",
   "source": [
    "Note by the way that, although we had a typo in the prompt template (\"cousine\" instead of \"cuisine\"), LLM managed to mitigate with it. You probably shouldn't rely on this too much, but generally LLMs, that are trained on data containing typos as well, can be able to cope with some amount of mistakes in the prompts."
   ],
   "metadata": {
    "id": "9S8kWoDEcZy5"
   }
  },
  {
   "cell_type": "markdown",
   "source": [
    "To combine multiple calls into one function you can use `SimpleSequentialChain`. It allows you to naively pass the output of previous request as an input for another prompt template.  "
   ],
   "metadata": {
    "id": "DPe71TMvacPK"
   }
  },
  {
   "cell_type": "code",
   "source": [
    "from langchain.chains import SimpleSequentialChain\n",
    "\n",
    "first_prompt = PromptTemplate.from_template(\n",
    "    \"What is the capital of {country}?\"\n",
    ")\n",
    "first_chain = LLMChain(llm=llm, prompt=first_prompt)\n",
    "\n",
    "second_prompt = PromptTemplate.from_template(\n",
    "    \"{city} is the capital of which country?\"\n",
    ")\n",
    "second_chain = LLMChain(llm=llm, prompt=second_prompt)\n",
    "\n",
    "simple_sequential_chain = SimpleSequentialChain(\n",
    "    chains=[first_chain, second_chain],\n",
    "    verbose=True\n",
    ")"
   ],
   "metadata": {
    "id": "Cx4X1mCkaXY5",
    "ExecuteTime": {
     "end_time": "2024-01-29T17:28:58.216077Z",
     "start_time": "2024-01-29T17:28:58.191048Z"
    }
   },
   "execution_count": 14,
   "outputs": []
  },
  {
   "cell_type": "markdown",
   "source": [
    "Intuitively now we should receive the same thing we inputted, let's try."
   ],
   "metadata": {
    "id": "7pmR19cKb3je"
   }
  },
  {
   "cell_type": "code",
   "source": [
    "simple_sequential_chain.run(\"Israel\")"
   ],
   "metadata": {
    "id": "5Yv8wkEZb_Uj",
    "outputId": "ccc17022-3620-4d04-fa28-448e28ba9f68",
    "colab": {
     "base_uri": "https://localhost:8080/",
     "height": 229
    },
    "ExecuteTime": {
     "end_time": "2024-01-29T17:29:04.436474Z",
     "start_time": "2024-01-29T17:29:02.976847Z"
    }
   },
   "execution_count": 15,
   "outputs": [
    {
     "name": "stdout",
     "output_type": "stream",
     "text": [
      "\n",
      "\n",
      "\u001B[1m> Entering new SimpleSequentialChain chain...\u001B[0m\n",
      "\u001B[36;1m\u001B[1;3m\n",
      "\n",
      "The capital of Israel is Jerusalem.\u001B[0m\n",
      "\u001B[33;1m\u001B[1;3m\n",
      "\n",
      "Israel.\u001B[0m\n",
      "\n",
      "\u001B[1m> Finished chain.\u001B[0m\n"
     ]
    },
    {
     "data": {
      "text/plain": "'\\n\\nIsrael.'"
     },
     "execution_count": 15,
     "metadata": {},
     "output_type": "execute_result"
    }
   ]
  },
  {
   "cell_type": "markdown",
   "source": [
    "If you want to make a more complicated chain with multiple inputs and outputs, you should use `SequentialChain`\n"
   ],
   "metadata": {
    "id": "IAj6rAHzdWod"
   }
  },
  {
   "cell_type": "code",
   "source": [
    "from langchain.chains import SequentialChain\n",
    "\n",
    "first_prompt = PromptTemplate(\n",
    "    input_variables=['country', 'letter'],\n",
    "    template=\"Name a city of {country} starting with {letter}\",\n",
    ")\n",
    "first_chain = LLMChain(\n",
    "    llm=llm,\n",
    "    prompt=first_prompt,\n",
    "    output_key='city'\n",
    ")\n",
    "\n",
    "second_prompt = PromptTemplate(\n",
    "    input_variables=['city'],\n",
    "    template=\"What is the main attraction in {city}?\"\n",
    ")\n",
    "second_chain = LLMChain(\n",
    "    llm=llm,\n",
    "    prompt=second_prompt,\n",
    "    output_key='attraction'\n",
    ")\n",
    "\n",
    "sequential_chain = SequentialChain(\n",
    "    chains=[first_chain, second_chain],\n",
    "    input_variables=[\"country\", \"letter\"],\n",
    "    output_variables=[\"city\", \"attraction\"],\n",
    "    verbose=True\n",
    ")"
   ],
   "metadata": {
    "id": "3zWcl6-ad23j",
    "ExecuteTime": {
     "end_time": "2024-01-29T17:29:35.507639Z",
     "start_time": "2024-01-29T17:29:35.482780Z"
    }
   },
   "execution_count": 16,
   "outputs": []
  },
  {
   "cell_type": "markdown",
   "source": [
    "\n",
    "In that case you'll have to pass input arguments as a dict."
   ],
   "metadata": {
    "id": "r7ZVAjufe6Du"
   }
  },
  {
   "cell_type": "code",
   "source": [
    "sequential_chain({\"country\": \"France\", \"letter\": \"P\"})"
   ],
   "metadata": {
    "id": "6zKb6TXRe7B-",
    "outputId": "cba93c8c-0bd8-47a6-9680-53cbdc8f51c1",
    "colab": {
     "base_uri": "https://localhost:8080/"
    },
    "ExecuteTime": {
     "end_time": "2024-01-29T17:29:56.769129Z",
     "start_time": "2024-01-29T17:29:54.786610Z"
    }
   },
   "execution_count": 17,
   "outputs": [
    {
     "name": "stderr",
     "output_type": "stream",
     "text": [
      "/Users/es/Desktop/ml-playground/generative-ai/practices-and-hws/venv/lib/python3.9/site-packages/langchain_core/_api/deprecation.py:117: LangChainDeprecationWarning: The function `__call__` was deprecated in LangChain 0.1.0 and will be removed in 0.2.0. Use invoke instead.\n",
      "  warn_deprecated(\n"
     ]
    },
    {
     "name": "stdout",
     "output_type": "stream",
     "text": [
      "\n",
      "\n",
      "\u001B[1m> Entering new SequentialChain chain...\u001B[0m\n",
      "\n",
      "\u001B[1m> Finished chain.\u001B[0m\n"
     ]
    },
    {
     "data": {
      "text/plain": "{'country': 'France',\n 'letter': 'P',\n 'city': '\\n\\nParis',\n 'attraction': '\\n\\nThe main attraction in Paris is the Eiffel Tower, which is an iconic landmark and symbol of the city. Other popular attractions include the Louvre Museum, Notre-Dame Cathedral, Arc de Triomphe, and the Champs-Élysées.'}"
     },
     "execution_count": 17,
     "metadata": {},
     "output_type": "execute_result"
    }
   ]
  },
  {
   "cell_type": "markdown",
   "metadata": {
    "id": "8b086ZL_6AQ2"
   },
   "source": [
    "# Task 1\n",
    "\n",
    "In this task we'll learn how to rewrite ChatGPT interaction code to LangChain.\n",
    "\n",
    "In the previous week we implemented translate and summarise function. Rewrite it using `SequentialChain`"
   ]
  },
  {
   "cell_type": "code",
   "source": [
    "from langchain.chains import SequentialChain\n",
    "\n",
    "summarise_prompt = PromptTemplate(\n",
    "    input_variables=['text'],\n",
    "    template=\"Write a short summary of the following text.\\n{text}\"\n",
    ")\n",
    "summarise_chain = LLMChain(\n",
    "    llm=llm,\n",
    "    prompt=summarise_prompt,\n",
    "    output_key='summary'\n",
    ")\n",
    "\n",
    "translate_prompt = PromptTemplate(\n",
    "    input_variables=['summary', 'target_language'],\n",
    "    template=\"Translate the following text to {target_language}:\\n{summary}\"\n",
    ")\n",
    "translate_chain = LLMChain(\n",
    "    llm=llm,\n",
    "    prompt=translate_prompt, output_key='translation'\n",
    ")\n",
    "\n",
    "summarise_and_translate_chain = SequentialChain(\n",
    "    chains=[summarise_chain, translate_chain],\n",
    "    input_variables=[\"text\", \"target_language\"],\n",
    "    output_variables=[\"summary\", \"translation\"],\n",
    "    verbose=True\n",
    ")"
   ],
   "metadata": {
    "id": "VAJ_9prRcqCT",
    "ExecuteTime": {
     "end_time": "2024-01-29T17:35:52.437996Z",
     "start_time": "2024-01-29T17:35:52.422094Z"
    }
   },
   "execution_count": 18,
   "outputs": []
  },
  {
   "cell_type": "code",
   "source": [
    "article = open(\"../../Week1/Week1_practice_materials/wikipedia_article_japanese.txt\").read()\n",
    "\n",
    "summarise_and_translate_chain(\n",
    "    {'text': article, \"target_language\": \"English\"}\n",
    ")"
   ],
   "metadata": {
    "id": "KlveDg_YgCdX",
    "outputId": "4c7cb31f-463e-44b7-8e59-a0b2d9fd74a1",
    "colab": {
     "base_uri": "https://localhost:8080/"
    },
    "ExecuteTime": {
     "end_time": "2024-01-29T17:37:35.402391Z",
     "start_time": "2024-01-29T17:37:30.923037Z"
    }
   },
   "execution_count": 19,
   "outputs": [
    {
     "name": "stdout",
     "output_type": "stream",
     "text": [
      "\n",
      "\n",
      "\u001B[1m> Entering new SequentialChain chain...\u001B[0m\n",
      "\n",
      "\u001B[1m> Finished chain.\u001B[0m\n"
     ]
    },
    {
     "data": {
      "text/plain": "{'text': '肉球\\n\\nページ\\nノート\\n閲覧\\n編集\\n履歴表示\\n\\nツール\\n出典: フリー百科事典『ウィキペディア（Wikipedia）』\\n曖昧さ回避\\tこの項目では、ネコ目動物の足裏にある肉球について説明しています。\\nお笑いタレントの肉球については「肉球 (お笑い芸人)」をご覧ください。\\n印鑑・スタンプ類の商標については「にくきう」をご覧ください。\\nアダルトゲームブランドについては「にくきゅう」をご覧ください。\\nQuestion book-4.svg\\nこの記事は検証可能な参考文献や出典が全く示されていないか、不十分です。出典を追加して記事の信頼性向上にご協力ください。（このテンプレートの使い方）\\n出典検索?: \"肉球\" – ニュース · 書籍 · スカラー · CiNii · J-STAGE · NDL · dlib.jp · ジャパンサーチ · TWL（2015年7月）\\n\\nイヌの肉球\\nA.爪\\nB.指球/趾球\\nC.掌球/足底球\\nD.狼爪\\nE.手根球\\n肉球（にくきゅう）とは、主にネコ目（食肉目）の動物の足裏部に見られる、盛り上がった無毛の部分の名称。\\n\\n正式には蹠球（しょきゅう）と言うが、肉球の一部を指す「掌球」との混同を避ける目的もあり一般的に肉球と俗称される。英語では肉球の並んでいる足を指してpaw、個々の肉球をpadと呼び区別する。\\n\\n構造\\n同様の外見・構造をしていても前足と後ろ足で名称が区別される。\\n\\n前足\\n掌球（しょうきゅう、metacarpal pad） - 前足の裏、中央に位置する大きめの肉球。字で分かるように、人間の掌に相当する。\\n指球（しきゅう、digital pad） - 掌球の外側に5つ並んだ肉球。1つは他の4つと離れて位置しており、これが人間の親指に相当する。\\n手根球（しゅこんきゅう、carpal pad） - 掌球の上部、人間の手首に相当する位置にある肉球。後ろ足には類似する肉球は存在しない。\\n後ろ足\\n足底球（そくていきゅう、footpad） - 後ろ足の裏、中央に位置する大きめの肉球。狭義にはこの部分を蹠球と呼ぶ。\\n趾球（しきゅう、digital pad） - 足底球（蹠球）の外側に4つ並んだ肉球。\\n押すとぷにぷにとした独特の触感がある。外側は角質層が厚くなったもので覆われており、地表の突起物による負傷や磨耗から足裏を保護する。表面は顆粒状になっており、平滑面でも滑らずに歩行できる。角質層の下部は、脂肪組織を含んだ弾性線維が網目状になっている。肉球の周囲には大きく発達した汗腺がある。\\n\\n色や模様、形状、柔らかさなどには個体差があり、生息する環境に合わせて変化する。例えば、野生のネコの肉球は、室内で飼育されているネコに比べて厚く、また硬くなっている。また主にネコに多い多指症という奇形の場合は指球が指の数だけ多くなる。\\n\\n怪我をした際、縫うことは非常に困難である。\\n\\n役割\\n獲物に接近する際に気付かれないように足音を消す働きがある。また、歩行時や樹上などから飛び降りる際の衝撃を緩和する役目もある。ネコの手根球の上部には2〜3本の毛が生えており、歩行時に触覚器としての役割をこなす。\\n\\nネコ目の動物の中でもアシカ亜目（鰭脚類）に属するアザラシ、アシカ、セイウチなどの海生哺乳類には肉球がない（そもそも歩行しないので肉球は不要である）。\\n\\n肉球を持つ動物\\nネコ科の動物\\nイヌ科の動物\\nクマ科の動物\\nアライグマ\\nイタチ科の動物\\nネズミ目の動物（一部）\\n有袋類の動物（ウォンバット、フクロミツスイ等）\\n参考画像\\n硬いコンクリート上に着地しているイヌの肉球\\n硬いコンクリート上に着地しているイヌの肉球\\n\\n \\nトラの肉球\\nトラの肉球\\n\\n \\nネコの肉球\\nネコの肉球\\n\\n \\n多指症により7本の指があるネコの後肢の肉球\\n多指症により7本の指があるネコの後肢の肉球\\n\\n意匠としての肉球\\n人間との付き合いが長い動物である故かネコを意匠とする商品は多く存在するが、中にはネコそのものではなく、肉球を主役とした猫の掌部分を意匠として取り入れたものも少なくない。その独特の手触りに「癒やし」を感じる人もおり、そうした感触を再現した玩具なども存在する。',\n 'target_language': 'English',\n 'summary': 'また、猫の肉球をモチーフとしたソフトクリームなどの食品もある。\\n\\nSummary:\\n肉球とは、主にネコ目の動物の足裏にある無毛の部分で、掌球や指球などの部分から構成される。肉球は足音を消し、衝撃を緩和する役割を持ち、また触覚器としても機能する。多くの動物が肉球を持ち、その独特の手触りから意匠としても人気がある。',\n 'translation': '\\n\\nIn addition, there are also food items such as soft serve ice cream that are inspired by the paw pads of cats. \\nPaw pads are the hairless parts found on the underside of the feet of animals, mainly in the cat family, and are made up of pads and toe pads. Paw pads help to muffle footsteps, cushion impacts, and also serve as sensory organs. Many animals have paw pads, and their unique texture makes them popular as a design element.'}"
     },
     "execution_count": 19,
     "metadata": {},
     "output_type": "execute_result"
    }
   ]
  },
  {
   "cell_type": "markdown",
   "metadata": {
    "id": "m-iv_kRr6AQ3"
   },
   "source": [
    "# ChatGPT plugins and conversation memory\n",
    "\n",
    "In this part we'll explore two cool features of LangChain: **Agents** and **Memory**. You will learn how to:\n",
    "\n",
    "- access internet inside a chain;\n",
    "- remember the conversation history and adjust to it.\n",
    "\n",
    "**Agents** allow you to use tooling like web search, calling apis, math, python code etc. (they are known as \"Plugins\" in ChatBPT Web UI) to achive the goal of the given task.\n",
    "\n",
    "**Memory** allows you to keep a state of the conversation, just like what you see in the WebUI of ChatGPT.\n",
    "\n",
    "If you combine the two you can essentially get the same interface as ChatGPT WebUI has with plugins."
   ]
  },
  {
   "cell_type": "markdown",
   "source": [
    "### Web search\n",
    "\n",
    "There are plenty of search engines available. We'll try DuckDuckGo, but feel free to use any other for your projects.\n",
    "\n",
    "Let's install the library."
   ],
   "metadata": {
    "id": "DWi_byUVn4EQ"
   }
  },
  {
   "cell_type": "code",
   "execution_count": 20,
   "metadata": {
    "id": "YvnlZU7i6AQ3",
    "outputId": "4eee43ac-d3a0-4c88-a6c5-fdba031e5eee",
    "colab": {
     "base_uri": "https://localhost:8080/"
    },
    "ExecuteTime": {
     "end_time": "2024-01-29T17:39:00.314599Z",
     "start_time": "2024-01-29T17:38:48.351152Z"
    }
   },
   "outputs": [
    {
     "name": "stdout",
     "output_type": "stream",
     "text": [
      "Collecting duckduckgo-search\r\n",
      "  Downloading duckduckgo_search-4.4-py3-none-any.whl.metadata (19 kB)\r\n",
      "Collecting docstring-inheritance>=2.1.2 (from duckduckgo-search)\r\n",
      "  Downloading docstring_inheritance-2.1.2-py3-none-any.whl.metadata (10 kB)\r\n",
      "Requirement already satisfied: click>=8.1.7 in /Users/es/Desktop/ml-playground/generative-ai/practices-and-hws/venv/lib/python3.9/site-packages (from duckduckgo-search) (8.1.7)\r\n",
      "Collecting curl-cffi>=0.6.0b7 (from duckduckgo-search)\r\n",
      "  Downloading curl_cffi-0.6.0b7-cp37-abi3-macosx_11_0_arm64.whl.metadata (9.2 kB)\r\n",
      "Collecting lxml>=4.9.3 (from duckduckgo-search)\r\n",
      "  Using cached lxml-5.1.0-cp39-cp39-macosx_11_0_arm64.whl.metadata (3.5 kB)\r\n",
      "Requirement already satisfied: nest-asyncio>=1.6.0 in /Users/es/Desktop/ml-playground/generative-ai/practices-and-hws/venv/lib/python3.9/site-packages (from duckduckgo-search) (1.6.0)\r\n",
      "Requirement already satisfied: cffi>=1.12.0 in /Users/es/Desktop/ml-playground/generative-ai/practices-and-hws/venv/lib/python3.9/site-packages (from curl-cffi>=0.6.0b7->duckduckgo-search) (1.16.0)\r\n",
      "Requirement already satisfied: certifi in /Users/es/Desktop/ml-playground/generative-ai/practices-and-hws/venv/lib/python3.9/site-packages (from curl-cffi>=0.6.0b7->duckduckgo-search) (2023.11.17)\r\n",
      "Requirement already satisfied: pycparser in /Users/es/Desktop/ml-playground/generative-ai/practices-and-hws/venv/lib/python3.9/site-packages (from cffi>=1.12.0->curl-cffi>=0.6.0b7->duckduckgo-search) (2.21)\r\n",
      "Downloading duckduckgo_search-4.4-py3-none-any.whl (20 kB)\r\n",
      "Downloading curl_cffi-0.6.0b7-cp37-abi3-macosx_11_0_arm64.whl (2.3 MB)\r\n",
      "\u001B[2K   \u001B[90m━━━━━━━━━━━━━━━━━━━━━━━━━━━━━━━━━━━━━━━━\u001B[0m \u001B[32m2.3/2.3 MB\u001B[0m \u001B[31m4.4 MB/s\u001B[0m eta \u001B[36m0:00:00\u001B[0ma \u001B[36m0:00:01\u001B[0m0m\r\n",
      "\u001B[?25hDownloading docstring_inheritance-2.1.2-py3-none-any.whl (21 kB)\r\n",
      "Using cached lxml-5.1.0-cp39-cp39-macosx_11_0_arm64.whl (4.5 MB)\r\n",
      "Installing collected packages: lxml, docstring-inheritance, curl-cffi, duckduckgo-search\r\n",
      "Successfully installed curl-cffi-0.6.0b7 docstring-inheritance-2.1.2 duckduckgo-search-4.4 lxml-5.1.0\r\n"
     ]
    }
   ],
   "source": [
    "!pip install duckduckgo-search"
   ]
  },
  {
   "cell_type": "markdown",
   "source": [
    "A search engine is a **tool**. And to use it we need an **agent**:"
   ],
   "metadata": {
    "id": "F6XX-TydoMRa"
   }
  },
  {
   "cell_type": "code",
   "execution_count": 21,
   "metadata": {
    "id": "NbAIf4UF6AQ3",
    "ExecuteTime": {
     "end_time": "2024-01-29T17:39:23.452875Z",
     "start_time": "2024-01-29T17:39:21.626103Z"
    }
   },
   "outputs": [
    {
     "name": "stderr",
     "output_type": "stream",
     "text": [
      "/Users/es/Desktop/ml-playground/generative-ai/practices-and-hws/venv/lib/python3.9/site-packages/langchain_core/_api/deprecation.py:117: LangChainDeprecationWarning: The function `initialize_agent` was deprecated in LangChain 0.1.0 and will be removed in 0.2.0. Use Use new agent constructor methods like create_react_agent, create_json_agent, create_structured_chat_agent, etc. instead.\n",
      "  warn_deprecated(\n"
     ]
    }
   ],
   "source": [
    "from langchain.agents import AgentType, initialize_agent, load_tools\n",
    "from langchain.llms import OpenAI\n",
    "from langchain.tools import DuckDuckGoSearchRun\n",
    "\n",
    "llm = OpenAI(temperature=0)\n",
    "\n",
    "tools = [DuckDuckGoSearchRun()]\n",
    "\n",
    "agent = initialize_agent(\n",
    "    tools,\n",
    "    llm,\n",
    "    agent=AgentType.ZERO_SHOT_REACT_DESCRIPTION, # list a tool and say \"this tool does this\"\n",
    "    verbose=True\n",
    ")\n"
   ]
  },
  {
   "cell_type": "markdown",
   "source": [
    "Now if we push a prompt to the agent, it will perform a well structured multi-step job that includes planning, actions and some more:"
   ],
   "metadata": {
    "id": "gm3f2p3Ro-kP"
   }
  },
  {
   "cell_type": "code",
   "execution_count": 22,
   "metadata": {
    "id": "QwatBzs66AQ3",
    "outputId": "c34d9ef3-18fc-4b1d-9ca7-176b0cea2c05",
    "colab": {
     "base_uri": "https://localhost:8080/",
     "height": 267
    },
    "ExecuteTime": {
     "end_time": "2024-01-29T17:39:51.714326Z",
     "start_time": "2024-01-29T17:39:39.765779Z"
    }
   },
   "outputs": [
    {
     "name": "stdout",
     "output_type": "stream",
     "text": [
      "\n",
      "\n",
      "\u001B[1m> Entering new AgentExecutor chain...\u001B[0m\n",
      "\u001B[32;1m\u001B[1;3m I should search for this information online.\n",
      "Action: duckduckgo_search\n",
      "Action Input: \"most famous K-pop bands\"\u001B[0m"
     ]
    },
    {
     "name": "stderr",
     "output_type": "stream",
     "text": [
      "/Users/es/Desktop/ml-playground/generative-ai/practices-and-hws/venv/lib/python3.9/site-packages/langchain_community/utilities/duckduckgo_search.py:47: UserWarning: DDGS running in an async loop. This may cause errors. Use AsyncDDGS instead.\n",
      "  with DDGS() as ddgs:\n"
     ]
    },
    {
     "name": "stdout",
     "output_type": "stream",
     "text": [
      "\n",
      "Observation: \u001B[36;1m\u001B[1;3mBTS Big Hit Music (HYBE Labels) 95,988 votes Hailing from South Korea, this globally-acclaimed septet is renowned for their meticulously crafted blend of K-pop and hip-hop, which has won numerous awards and garnered millions of fans across the globe. Home » Entertainment 33 Best K-Pop Groups Of All Time By Liam Flynn December 19, 2023 Idol culture has been a part of both Asian and American culture for decades; the music industry has responded to the demand for more pop music and idols by introducing a steady stream of Korean pop, or K-pop, stars. BTS (방탄소년단) BTS or Bangtan Sonyeon Dan, is a Korean K-pop boy group with seven members under Big Hit Entertainment. They are one of the most successful and popular boy bands of all time, recently becoming a global phenomenon. By Rolling Stone July 20, 2023 Photo illustration by Griffin Lotz. Photographs in illustration by Emma McIntyre/Getty Images; John Shearer/Getty Images; Ten Asia/Multi-Bits/Getty Images, 2; Marco... BIGBANG - 뱅뱅뱅 (BANG BANG BANG) M/V Watch on BIGBANG is widely considered to be one of the most successful and influential K-pop groups of all time, and they are often referred to as the \"Kings of K-pop.\"\u001B[0m\n",
      "Thought:\u001B[32;1m\u001B[1;3m It seems like BTS and BIGBANG are two of the most famous K-pop bands.\n",
      "Action: duckduckgo_search\n",
      "Action Input: \"BTS vs BIGBANG\"\u001B[0m"
     ]
    },
    {
     "name": "stderr",
     "output_type": "stream",
     "text": [
      "/Users/es/Desktop/ml-playground/generative-ai/practices-and-hws/venv/lib/python3.9/site-packages/langchain_community/utilities/duckduckgo_search.py:47: UserWarning: DDGS running in an async loop. This may cause errors. Use AsyncDDGS instead.\n",
      "  with DDGS() as ddgs:\n"
     ]
    },
    {
     "name": "stdout",
     "output_type": "stream",
     "text": [
      "\n",
      "Observation: \u001B[36;1m\u001B[1;3mBTS 's popularity has somehow made many fans refer them to the group's legendary senior, BIGBANG, which is why BTS is often called \" BIGBANG inheritor \" by many Kpop fans. Contents Although they debuted in two different eras, BIGBANG and BTS have many things in common that stunned their fans. legacy fame can still stand even when their stats and overall popularity is surpassed. i don't think we need to say bts \"dethroned\" bigbang in order to say bts' popularity is wider and higher than what bigbang achieved. it was a different time and the scale that bigbang could reach had a limit. trying to say bts are the kings of kpop and kicked bigbang off the top will just start ... BIGBANG Daesung's departure from YG Entertainment sent shockwaves through the K-pop community, but the artist's subsequent move to a new label has proven to be a strategic and invigorating decision. BIGBANG and BTS are two famous K-pop boy groups. (Image: Kpopping) On January 13, 2023, Taeyang (BIGBANG) released his new song \"VIBE\" featuring Jimin (BTS), a solo production that marked Taeyang's comeback after more than 5 years. The collaboration quickly gained attention from fans. 2 xMey • 28 days ago BTS (I do love all Exo's title tracks and complete earlier albums so this was hard) Bigbang (tho Suju has many bops I love as well) Shinee Stray kids Don't know either well enough, but since I do like a song by Enhypen I'll choose them\u001B[0m\n",
      "Thought:\u001B[32;1m\u001B[1;3m It seems like there is a lot of debate and discussion about which K-pop bands are the most famous.\n",
      "Action: duckduckgo_search\n",
      "Action Input: \"debate about most famous K-pop bands\"\u001B[0m"
     ]
    },
    {
     "name": "stderr",
     "output_type": "stream",
     "text": [
      "/Users/es/Desktop/ml-playground/generative-ai/practices-and-hws/venv/lib/python3.9/site-packages/langchain_community/utilities/duckduckgo_search.py:47: UserWarning: DDGS running in an async loop. This may cause errors. Use AsyncDDGS instead.\n",
      "  with DDGS() as ddgs:\n"
     ]
    },
    {
     "name": "stdout",
     "output_type": "stream",
     "text": [
      "\n",
      "Observation: \u001B[36;1m\u001B[1;3mStaff Writer 10 months ago K-pop, short for Korean pop, has taken the world by storm in recent years. This dynamic and genre-defying form of music has captivated audiences from all walks of life, with its catchy tunes, captivating choreography, and charismatic performers. On one hand, proponents of K-pop argue that it has a positive influence on young people. They point to the many benefits of listening to music, such as stress relief, improved mood, and increased ... \"K-pop exports hit a new high last year,\" says Kim Jin-woo, the head researcher at Circle Chart, one of the most influential Korean popular music charts. \"But nevertheless, there are signs of ... FAQ What is the negative effect of K-pop culture? Impaired social skills may affect K-pop addiction. Clearly, most K-pop addicts are not. They prefer to sit anywhere and enjoy their favorite hits or Super His Junior New His albums without disturbing others. Such attitudes can damage relationships with others. March 5, 2020 August 21, 2023. Initially a musical subculture popular in South Korea during the 1990s, Korean Pop, or K-pop, has transformed into a global cultural phenomenon. Characterized by catchy hooks, polished choreography, grandiose live performances, and impeccably produced music videos, K-pop — including music by groups like BTS and BLACKPINK ...\u001B[0m\n",
      "Thought:\u001B[32;1m\u001B[1;3m It seems like there are both positive and negative effects of K-pop culture.\n",
      "Action: duckduckgo_search\n",
      "Action Input: \"positive and negative effects of K-pop culture\"\u001B[0m"
     ]
    },
    {
     "name": "stderr",
     "output_type": "stream",
     "text": [
      "/Users/es/Desktop/ml-playground/generative-ai/practices-and-hws/venv/lib/python3.9/site-packages/langchain_community/utilities/duckduckgo_search.py:47: UserWarning: DDGS running in an async loop. This may cause errors. Use AsyncDDGS instead.\n",
      "  with DDGS() as ddgs:\n"
     ]
    },
    {
     "name": "stdout",
     "output_type": "stream",
     "text": [
      "\n",
      "Observation: \u001B[36;1m\u001B[1;3mCharacterized by catchy hooks, polished choreography, grandiose live performances, and impeccably produced music videos, K-pop — including music by groups like BTS and BLACKPINK — now frequently tops the Billboard charts, attracts a fiercely dedicated online following, and generates billions of dollars. in the region. Photo by Aditya Chinchure on Unsplash However, critics of K-pop argue that the hyper-sexualized and violent imagery in some K-pop music videos can have a negative influence on young people.... Beyond the music itself, K-Pop has had profound positive impacts on various aspects of society, transcending cultural boundaries and fostering a sense of unity among diverse communities. — Raphael Rashid (@koryodynasty) February 12, 2022 K-pop has also had a profound impact on youth culture in South Korea. For many young people, K-pop is a source of inspiration and a symbol of hope. It provides them with an outlet for their creativity and a platform for their voices to be heard. By: Yellowbrick The K-Pop Phenomenon: A Global Sensation K-pop, short for Korean pop music, has taken the world by storm in recent years. With its catchy melodies, impressive choreography, and stunning visuals, K-pop has captured the hearts of millions of fans around the globe.\u001B[0m\n",
      "Thought:\u001B[32;1m\u001B[1;3m It seems like K-pop has had a significant impact on global culture and youth culture in South Korea.\n",
      "Thought: I now know the final answer\n",
      "Final Answer: The most famous K-pop bands are BTS and BIGBANG, and there are both positive and negative effects of K-pop culture. K-pop has had a significant impact on global culture and youth culture in South Korea.\u001B[0m\n",
      "\n",
      "\u001B[1m> Finished chain.\u001B[0m\n"
     ]
    },
    {
     "data": {
      "text/plain": "'The most famous K-pop bands are BTS and BIGBANG, and there are both positive and negative effects of K-pop culture. K-pop has had a significant impact on global culture and youth culture in South Korea.'"
     },
     "execution_count": 22,
     "metadata": {},
     "output_type": "execute_result"
    }
   ],
   "source": [
    "agent.run(\"What are the most famous K-pop bands?\")"
   ]
  },
  {
   "cell_type": "markdown",
   "source": [
    "**A tricky question:** where is the LLM used in this chain?\n",
    "\n",
    "We have set the `verbose` parameter of the agent to `True`. This lets us see all the intermediate steps, and this would allow us to debug the process if something goes wrong."
   ],
   "metadata": {
    "id": "NJB_EO9MpRje"
   }
  },
  {
   "cell_type": "markdown",
   "metadata": {
    "id": "7FgQVMGK6AQ3"
   },
   "source": [
    "### Memory\n",
    "\n",
    "Memory allows an agent to memorize the previous interaction with the user and act according to it. Let's try to add memory and make a small conversation."
   ]
  },
  {
   "cell_type": "code",
   "execution_count": 23,
   "metadata": {
    "id": "onLblITM6AQ4",
    "ExecuteTime": {
     "end_time": "2024-01-29T18:42:19.751530Z",
     "start_time": "2024-01-29T18:42:19.723627Z"
    }
   },
   "outputs": [],
   "source": [
    "from langchain.agents import ZeroShotAgent, Tool, AgentExecutor\n",
    "from langchain.memory import ConversationBufferMemory\n",
    "from langchain import OpenAI, LLMChain\n",
    "\n",
    "\n",
    "prefix = \"\"\"Have a conversation with a human, answering the following \"\"\"\\\n",
    "    \"\"\"questions as best you can. You have access to the following tools:\"\"\"\n",
    "suffix = \"\"\"Begin!\"\n",
    "\n",
    "{chat_history}\n",
    "Question: {input}\n",
    "{agent_scratchpad}\"\"\"\n",
    "\n",
    "prompt = ZeroShotAgent.create_prompt(\n",
    "    tools,\n",
    "    prefix=prefix,\n",
    "    suffix=suffix,\n",
    "    input_variables=[\"input\", \"chat_history\", \"agent_scratchpad\"],\n",
    ")\n",
    "memory = ConversationBufferMemory(memory_key=\"chat_history\")"
   ]
  },
  {
   "cell_type": "markdown",
   "source": [
    "There are several notable features here. First of all, chat history is explicitly present in the prompt as the `chat_history` variable. Second, there is a mysterious `agent_scratchpad`. Actually, the scratchpad is not something you want to deal with: it's a medium where the artifacts of the agent's \"thought process\" appear.\n",
    "\n",
    "Now, let's define the chain:\n"
   ],
   "metadata": {
    "id": "iMXcj7sRp97q"
   }
  },
  {
   "cell_type": "code",
   "execution_count": 24,
   "metadata": {
    "id": "bPSMLKVO6AQ4",
    "ExecuteTime": {
     "end_time": "2024-01-29T18:42:22.060619Z",
     "start_time": "2024-01-29T18:42:21.932153Z"
    }
   },
   "outputs": [
    {
     "name": "stderr",
     "output_type": "stream",
     "text": [
      "/Users/es/Desktop/ml-playground/generative-ai/practices-and-hws/venv/lib/python3.9/site-packages/langchain_core/_api/deprecation.py:117: LangChainDeprecationWarning: The class `langchain.agents.mrkl.base.ZeroShotAgent` was deprecated in langchain 0.1.0 and will be removed in 0.2.0. Use create_react_agent instead.\n",
      "  warn_deprecated(\n"
     ]
    }
   ],
   "source": [
    "llm_chain = LLMChain(llm=OpenAI(), prompt=prompt)\n",
    "agent = ZeroShotAgent(\n",
    "    llm_chain=llm_chain,\n",
    "    tools=tools,\n",
    "    verbose=True\n",
    ")\n",
    "agent_chain = AgentExecutor.from_agent_and_tools(\n",
    "    agent=agent, tools=tools, verbose=True, memory=memory\n",
    ")"
   ]
  },
  {
   "cell_type": "markdown",
   "source": [
    "And let's try to have a two-step conversation."
   ],
   "metadata": {
    "id": "6UHt1m4zy5QZ"
   }
  },
  {
   "cell_type": "code",
   "execution_count": 25,
   "metadata": {
    "id": "lKP20gyp6AQ4",
    "outputId": "24844592-1f50-4c56-eeba-199712643d92",
    "colab": {
     "base_uri": "https://localhost:8080/",
     "height": 302
    },
    "ExecuteTime": {
     "end_time": "2024-01-29T18:42:40.084831Z",
     "start_time": "2024-01-29T18:42:31.093060Z"
    }
   },
   "outputs": [
    {
     "name": "stdout",
     "output_type": "stream",
     "text": [
      "\n",
      "\n",
      "\u001B[1m> Entering new AgentExecutor chain...\u001B[0m\n",
      "\u001B[32;1m\u001B[1;3mThought: Adopting a pet is a big commitment, so it's important to carefully consider if you are ready for the responsibility.\n",
      "Action: duckduckgo_search\n",
      "Action Input: \"adoption process for cats\"\u001B[0m"
     ]
    },
    {
     "name": "stderr",
     "output_type": "stream",
     "text": [
      "/Users/es/Desktop/ml-playground/generative-ai/practices-and-hws/venv/lib/python3.9/site-packages/langchain_community/utilities/duckduckgo_search.py:47: UserWarning: DDGS running in an async loop. This may cause errors. Use AsyncDDGS instead.\n",
      "  with DDGS() as ddgs:\n"
     ]
    },
    {
     "name": "stdout",
     "output_type": "stream",
     "text": [
      "\n",
      "Observation: \u001B[36;1m\u001B[1;3mHow do you adopt a cat? How do I choose a cat? What do I need to have at home? What does the application process look like? What if they hate me? As overwhelming as these questions can feel, most of them can be dealt with by taking a deep breath, doing some prep, and working your way through our step-by-step breakdown of the whole process. Completing the Adoption Process. Once the hearts at home are set on welcoming a furry friend and all the due diligence is completed, it's time to make that big, beautiful commitment and finalize your cat's adoption. Here's the homestretch of the journey—those necessary steps to officially welcome your new feline family member. 1. Adopt A Cat Foster a Cat Cat Guardian Angels Cat Alumni Stories Dogs Adopt a Dog Dog Guardian Angels Dog Alumni Stories Spay Inc. What Is Spay Inc.? Why Spay/Neuter? Submit a Request Spay Inc. FAQs Help Us Donate Volunteer Shop News & Events Adoption Fairs & Events Newsletters Past Events Resources Health & Behavior Lost a Cat or Dog? Updated June 6, 2023 Thais Varela / Stocksy Enter email address Sign up for product updates, offers, and learn more about The Wildest, and other Mars Petcare brands. Must be over 16 years to sign up. See our privacy statement to find out how we collect and use your data, to contact us with privacy questions or to exercise your personal data rights. $210 Single Cat or Kitten / $360 Pair; $100 Senior Adoption fee includes: Adult: distemper, rabies, combo test, flea treatment, deworming , spay or neuter. Kitten: includes first vet visit , first distemper (rabies if old enough), combo test, deworming, flea treatment, spay or neuter certificate.\u001B[0m\n",
      "Thought:\u001B[32;1m\u001B[1;3m It looks like there is a lot of information and resources available to help with the adoption process.\n",
      "Action: duckduckgo_search\n",
      "Action Input: \"cost of adopting a cat\"\u001B[0m"
     ]
    },
    {
     "name": "stderr",
     "output_type": "stream",
     "text": [
      "/Users/es/Desktop/ml-playground/generative-ai/practices-and-hws/venv/lib/python3.9/site-packages/langchain_community/utilities/duckduckgo_search.py:47: UserWarning: DDGS running in an async loop. This may cause errors. Use AsyncDDGS instead.\n",
      "  with DDGS() as ddgs:\n"
     ]
    },
    {
     "name": "stdout",
     "output_type": "stream",
     "text": [
      "\n",
      "Observation: \u001B[36;1m\u001B[1;3mTaking care of a cat involves a number of expenses, the biggest of which are medical care and food; cat parents should plan on investing in a healthy diet that meets their cat's nutritional needs, and annual check-ups and vaccinations with a veterinarian. Cats also need litter, toys, and scratching posts. Adoption Process The Importance of Adopting - \"Adopt Don't' Shop\" There are so many great reasons to adopt rather than shop. Instead of bringing another kitten into the world, you can help... 1 Interactive Brokers Low commission rates start at $0 for U.S. listed stocks & ETFs*. Margin loan rates from 5.83% to 6.83%. Open An Account View Disclosure 2 SoFi Invest Active investing with... You can expect to pay between $70-$225 for a kitten, $25-$100 for an adult cat, and $0-$75 for a senior cat. Read the article below to learn the exact cost of adopting a cat from a shelter in the USA and how much you can expect to give on additional charges. The Importance of Adopting a Cat Breeder\u001B[0m\n",
      "Thought:\u001B[32;1m\u001B[1;3m It's good to know that there are affordable options for adoption and that there are benefits to adopting rather than buying from a breeder.\n",
      "Action: duckduckgo_search\n",
      "Action Input: \"benefits of adopting a cat\"\u001B[0m"
     ]
    },
    {
     "name": "stderr",
     "output_type": "stream",
     "text": [
      "/Users/es/Desktop/ml-playground/generative-ai/practices-and-hws/venv/lib/python3.9/site-packages/langchain_community/utilities/duckduckgo_search.py:47: UserWarning: DDGS running in an async loop. This may cause errors. Use AsyncDDGS instead.\n",
      "  with DDGS() as ddgs:\n"
     ]
    },
    {
     "name": "stdout",
     "output_type": "stream",
     "text": [
      "\n",
      "Observation: \u001B[36;1m\u001B[1;3m1. Adoption saves lives. When you adopt a cat, you provide an animal in need with a loving home, but you also allow your local shelter or rescue organization to help other animals. Most shelters have very limited space, and each adoption allows them to devote that space to helping another animal — and hopefully finding them a home as well. 2. If you're thinking of owning a cat, these are some of the key benefits: Cats are low maintenance. Maybe cats' most alluring quality is that they are lower maintenance and cost less than dogs, who need walking, training, frequent grooming, and more toys and attention. Cats are also perfect for apartments or city living. Adopting an Adult Cat or Kitten: Pros & Cons Image Credit: Piqsels Written by: Chantelle Fowler Last Updated on January 5, 2024 by Catster Editorial Team Congratulations, you've decided to... Lifelong companionship By getting a kitten, you potentially enjoy a longer period of companionship, as you get to share their entire lifespan. Seeing them go from tiny, curious creatures to intelligent, full-grown adults can be a really fascinating and gratifying journey. Training and habits The Benefits of Owning a Cat. Adopting a cat can be a great choice. If you're up for the responsibility, they can make fantastic long-term companions. ... Once you adopt a cat, your cleaning schedule may need some tweaking. 2. Their Litter Boxes Smell and Require Cleaning. Cats' urine and excrement are notably stinky, and their toilet is a ...\u001B[0m\n",
      "Thought:\u001B[32;1m\u001B[1;3m There are many benefits to adopting a cat, including saving lives, low maintenance, and lifelong companionship.\n",
      "Thought: I now know the final answer.\n",
      "Final Answer: Adopting a cat can be a wonderful experience, but it's important to carefully consider the commitment and be prepared for the responsibilities and expenses involved. There are many resources available to help with the adoption process and it's beneficial to adopt from a shelter rather than buying from a breeder. The costs of adoption vary, but there are affordable options available. Overall, adopting a cat can bring joy and companionship into your life while also saving a life in need.\u001B[0m\n",
      "\n",
      "\u001B[1m> Finished chain.\u001B[0m\n"
     ]
    },
    {
     "data": {
      "text/plain": "\"Adopting a cat can be a wonderful experience, but it's important to carefully consider the commitment and be prepared for the responsibilities and expenses involved. There are many resources available to help with the adoption process and it's beneficial to adopt from a shelter rather than buying from a breeder. The costs of adoption vary, but there are affordable options available. Overall, adopting a cat can bring joy and companionship into your life while also saving a life in need.\""
     },
     "execution_count": 25,
     "metadata": {},
     "output_type": "execute_result"
    }
   ],
   "source": [
    "agent_chain.run(\n",
    "    input=\"I want to get a cat, do you think it's a good idea?\"\n",
    ")"
   ]
  },
  {
   "cell_type": "code",
   "execution_count": 26,
   "metadata": {
    "id": "oLnJD7Mz6AQ4",
    "outputId": "cf38afa9-b7f6-478c-d122-f58e7d5c67c6",
    "colab": {
     "base_uri": "https://localhost:8080/",
     "height": 267
    },
    "ExecuteTime": {
     "end_time": "2024-01-29T18:43:04.006007Z",
     "start_time": "2024-01-29T18:42:52.103426Z"
    }
   },
   "outputs": [
    {
     "name": "stdout",
     "output_type": "stream",
     "text": [
      "\n",
      "\n",
      "\u001B[1m> Entering new AgentExecutor chain...\u001B[0m\n",
      "\u001B[32;1m\u001B[1;3mThought: You should think about what kind of name would suit the cat's personality and appearance.\n",
      "Action: duckduckgo_search\n",
      "Action Input: \"cat names\"\u001B[0m"
     ]
    },
    {
     "name": "stderr",
     "output_type": "stream",
     "text": [
      "/Users/es/Desktop/ml-playground/generative-ai/practices-and-hws/venv/lib/python3.9/site-packages/langchain_community/utilities/duckduckgo_search.py:47: UserWarning: DDGS running in an async loop. This may cause errors. Use AsyncDDGS instead.\n",
      "  with DDGS() as ddgs:\n"
     ]
    },
    {
     "name": "stdout",
     "output_type": "stream",
     "text": [
      "\n",
      "Observation: \u001B[36;1m\u001B[1;3mErika Augusto from Pexels, created in Canva There are lots of great names for male kitties! Photo by Monique Laats from Pexels, created in Canva by Author Names for Male Cats This list of male cat names has something for just about everyone. Golden Retriever Australian Shepherd German Shepherd Pomeranian Shih Tzu Border Collie Labrador Retriever Boxer Beagle Dachshund Chihuahua Poodle Yorkshire Terrier Dog Names Best Girl Dog Names Top Boy Dog Names Unique Dog Names Cute Dog Names Best Puppy Names Dog Name Generator Tough Dog Names Food Dog Names Romantic Dog Names Find a name that suits your cat's personality, color, or food-inspired theme from this list of 195 cute cat names. Whether you have a female, male, orange, black, gray, or white cat, you'll find a name that matches their fluff and charm. Find the perfect name for your female cat from a list of over 600 names by color, breed, style, country, and more. Whether you are looking for a cute, cool, famous, or exotic name, you can browse by categories and discover new options for your furry friend. Angel- An angel is an excellent being in the world literature. Alaska- Alaska is an outstanding state of the United States. And you will love it. Alpine- This name is related to something high. Your cat is high in your esteem too. Arctic- The Arctic is a far away place where you can spend the night of your life.\u001B[0m\n",
      "Thought:\u001B[32;1m\u001B[1;3m There are so many options to choose from! I should consider the cat's personality and appearance before deciding on a name.\n",
      "Action: duckduckgo_search\n",
      "Action Input: \"how to choose a name for your cat\"\u001B[0m"
     ]
    },
    {
     "name": "stderr",
     "output_type": "stream",
     "text": [
      "/Users/es/Desktop/ml-playground/generative-ai/practices-and-hws/venv/lib/python3.9/site-packages/langchain_community/utilities/duckduckgo_search.py:47: UserWarning: DDGS running in an async loop. This may cause errors. Use AsyncDDGS instead.\n",
      "  with DDGS() as ddgs:\n"
     ]
    },
    {
     "name": "stdout",
     "output_type": "stream",
     "text": [
      "\n",
      "Observation: \u001B[36;1m\u001B[1;3m1. Don't Rush Consider all the factors that can contribute to your kitten's name, like its personality or appearance. Take time to decide what you want your kitten's name to be inspired by.... Carolyn Kaye Updated: Mar 25, 2023 11:12 AM EDT Adopt a new cat? Here are names for your new feline companion, ranging from cute to funny, for males and females (or unisex). Photo by Lloyd Dirks on Unsplash What Should I Name My Cat? If you're looking for names for your male or female cat, this list offers more than 400 ideas to choose from. In addition to physical appearance, another great way to choose a name for your cat is to think about his or her personality. If your cat is particularly feisty or playful, you might want to choose a name that reflects that, such as \"Rascal\" or \"Tiger.\" Some good suggestions would be Salem or Binx. An orange cat could be dubbed Garfield, whereas a fluffy white cat might need a name such as Cloud or Fluffy. 3. Consider Your Cat's Personality Considering your cat's personality is a great way to come up with a name for your kitten. The 7 Steps to Naming Your Cat 1. Don't Rush into a Name Cats learn words they recognize faster when associating a term, command, or name with something positive. For example, your cat will understand \"treat\" when you provide them with one. When choosing a name, it's best not to rush into something you'll end up hating later.\u001B[0m\n",
      "Thought:\u001B[32;1m\u001B[1;3m Personality is definitely an important factor in choosing a name for my cat. I should take my time and consider all the options before making a decision.\n",
      "Action: duckduckgo_search\n",
      "Action Input: \"popular cat names\"\u001B[0m"
     ]
    },
    {
     "name": "stderr",
     "output_type": "stream",
     "text": [
      "/Users/es/Desktop/ml-playground/generative-ai/practices-and-hws/venv/lib/python3.9/site-packages/langchain_community/utilities/duckduckgo_search.py:47: UserWarning: DDGS running in an async loop. This may cause errors. Use AsyncDDGS instead.\n",
      "  with DDGS() as ddgs:\n"
     ]
    },
    {
     "name": "stdout",
     "output_type": "stream",
     "text": [
      "\n",
      "Observation: \u001B[36;1m\u001B[1;3mFind out the most common, catchy, and clever cat names of 2024 based on surveys from various sources. Learn the meanings, origin, and popularity of different cat names and how to choose one that suits your kitty. Find out the most popular cat names in the US based on statistics from reliable sources and human names. See the top 100 cat names for girl and boy cats, as well as trends, mythological, and human names. Golden Retriever Australian Shepherd German Shepherd Pomeranian Shih Tzu Border Collie Labrador Retriever Boxer Beagle Dachshund Chihuahua Poodle Yorkshire Terrier Dog Names Best Girl Dog Names Top Boy Dog Names Unique Dog Names Cute Dog Names Best Puppy Names Dog Name Generator Tough Dog Names Food Dog Names Romantic Dog Names Blacky- One of the most popular name for black cats, an excellent name for your pet right away. Cloud- A cloud is a great symbol of the greatness of nature as a whole (Perfect for gray cats) Coconut- Coconut is a fantastic fruit and a great name for your cat. You Might Also Like : 101 Boy Cat Names Funky Cat Names Buenosia Carol from Pexels, created in Canva by Author Classical Cat Names For felines that carry themselves with dignity and grace, names like Skippy or Goofball won't do. One of these classic cat names might be the ideal selection for the elegant cat in your life. Classic Male Cat Names Classic Female Cat Names Recommended\u001B[0m\n",
      "Thought:\u001B[32;1m\u001B[1;3m These popular cat names are a good starting point, but I should also consider other factors like my cat's appearance and personality.\n",
      "Action: duckduckgo_search\n",
      "Action Input: \"how to choose the perfect name for your cat\"\u001B[0m"
     ]
    },
    {
     "name": "stderr",
     "output_type": "stream",
     "text": [
      "/Users/es/Desktop/ml-playground/generative-ai/practices-and-hws/venv/lib/python3.9/site-packages/langchain_community/utilities/duckduckgo_search.py:47: UserWarning: DDGS running in an async loop. This may cause errors. Use AsyncDDGS instead.\n",
      "  with DDGS() as ddgs:\n"
     ]
    },
    {
     "name": "stdout",
     "output_type": "stream",
     "text": [
      "\n",
      "Observation: \u001B[36;1m\u001B[1;3m1. Don't Rush Consider all the factors that can contribute to your kitten's name, like its personality or appearance. Take time to decide what you want your kitten's name to be inspired by.... 1. Consider the Cat's Personality 2. Choose a Name That is Easy to Remember and Spell 3. Choose a Name Based on the Cat's Appearance A. Choose a Name Based on Fur Color B. Choose a Name Based on Eye Color C. Choose a Name Based on Physical Features D. Choose a Name Based on Markings 4. Keep It Simple and Short 5. Some good suggestions would be Salem or Binx. An orange cat could be dubbed Garfield, whereas a fluffy white cat might need a name such as Cloud or Fluffy. 3. Consider Your Cat's Personality Considering your cat's personality is a great way to come up with a name for your kitten. If your cat loves to lounge around all day, lazy-themed names like \"Sleepy\" or \"Potato\" could be perfect. If youa re seeking cool orange cat names try out \"Sweet Potato\", \"Pumpkin\" or \"Yams\". Don't Forget About Traditional Cat Names Key Takeaways: Naming Naming Your Cat Based on Video Games Naming Your Cat Based on Hobbies or Activities Naming Your Cat Based on Historical Events Naming Your Cat Based on Astrology or Zodiac Signs Naming Your Cat Based on Literature or Poetry Naming Your Cat Based on Famous Authors or Characters Unique Cat Names\u001B[0m\n",
      "Thought:\u001B[32;1m\u001B[1;3m There are so many creative ways to choose a name for my cat! I should consider all these options and think about what best suits my cat's personality and appearance.\n",
      "Thought: I now know the final answer.\n",
      "Final Answer: The best name for my cat would be one that reflects its personality and appearance, and there are many resources available to help me choose the perfect name.\u001B[0m\n",
      "\n",
      "\u001B[1m> Finished chain.\u001B[0m\n"
     ]
    },
    {
     "data": {
      "text/plain": "'The best name for my cat would be one that reflects its personality and appearance, and there are many resources available to help me choose the perfect name.'"
     },
     "execution_count": 26,
     "metadata": {},
     "output_type": "execute_result"
    }
   ],
   "source": [
    "agent_chain.run(\n",
    "    input=\"I want it, what would be a good name for it?\"\n",
    ")"
   ]
  },
  {
   "cell_type": "markdown",
   "metadata": {
    "id": "_epOxf6g6AQ4"
   },
   "source": [
    "As you can see, now our agents can remember what we said before.\n",
    "\n",
    "You might've noticed that we've used different types of agents in those examples. We will dive deeper into agent creation in homework of this week, but we encourage you to research langchain on your own to discover even more functionality."
   ]
  },
  {
   "cell_type": "markdown",
   "metadata": {
    "id": "PwgrHsor6AQ5"
   },
   "source": [
    "# Database agents\n",
    "\n",
    "One of the promising use cases for LLM agents is interaction with a database through LLM. Imagine that you have an SQL database storing information that is used not only by analysts, but also by people who don't want to learn how to write SQL queries. In this case you could employ LLMs to:\n",
    "\n",
    "- translate English to SQL queries and\n",
    "- SQL output back to English."
   ]
  },
  {
   "cell_type": "markdown",
   "source": [
    "### SQL made easy with LangChain\n",
    "\n",
    "There are several modules for working with SQL in LangChain. In this session we'll use the simplest one, `SQLDatabaseChain`, and we'll look at the more sophisticated modules in the AI Safety session.\n",
    "\n",
    "For experiments we will use the Chinook database, which is frequently used to demonstrate database functionality. We will be using the SQLite version for the simplicity of demonstration"
   ],
   "metadata": {
    "id": "eZkVcFkS4JY1"
   }
  },
  {
   "cell_type": "code",
   "source": [
    "!pip install langchain-experimental"
   ],
   "metadata": {
    "colab": {
     "base_uri": "https://localhost:8080/"
    },
    "id": "il8Pzg43eWUl",
    "outputId": "e12aaf9f-58ce-47fd-8b47-a474032bcce3",
    "ExecuteTime": {
     "end_time": "2024-01-29T18:44:57.412358Z",
     "start_time": "2024-01-29T18:44:52.654996Z"
    }
   },
   "execution_count": 27,
   "outputs": [
    {
     "name": "stdout",
     "output_type": "stream",
     "text": [
      "Collecting langchain-experimental\r\n",
      "  Downloading langchain_experimental-0.0.49-py3-none-any.whl.metadata (1.9 kB)\r\n",
      "Requirement already satisfied: langchain<0.2,>=0.1 in /Users/es/Desktop/ml-playground/generative-ai/practices-and-hws/venv/lib/python3.9/site-packages (from langchain-experimental) (0.1.4)\r\n",
      "Requirement already satisfied: langchain-core<0.2.0,>=0.1.7 in /Users/es/Desktop/ml-playground/generative-ai/practices-and-hws/venv/lib/python3.9/site-packages (from langchain-experimental) (0.1.16)\r\n",
      "Requirement already satisfied: PyYAML>=5.3 in /Users/es/Desktop/ml-playground/generative-ai/practices-and-hws/venv/lib/python3.9/site-packages (from langchain<0.2,>=0.1->langchain-experimental) (6.0.1)\r\n",
      "Requirement already satisfied: SQLAlchemy<3,>=1.4 in /Users/es/Desktop/ml-playground/generative-ai/practices-and-hws/venv/lib/python3.9/site-packages (from langchain<0.2,>=0.1->langchain-experimental) (2.0.25)\r\n",
      "Requirement already satisfied: aiohttp<4.0.0,>=3.8.3 in /Users/es/Desktop/ml-playground/generative-ai/practices-and-hws/venv/lib/python3.9/site-packages (from langchain<0.2,>=0.1->langchain-experimental) (3.9.2)\r\n",
      "Requirement already satisfied: async-timeout<5.0.0,>=4.0.0 in /Users/es/Desktop/ml-playground/generative-ai/practices-and-hws/venv/lib/python3.9/site-packages (from langchain<0.2,>=0.1->langchain-experimental) (4.0.3)\r\n",
      "Requirement already satisfied: dataclasses-json<0.7,>=0.5.7 in /Users/es/Desktop/ml-playground/generative-ai/practices-and-hws/venv/lib/python3.9/site-packages (from langchain<0.2,>=0.1->langchain-experimental) (0.6.3)\r\n",
      "Requirement already satisfied: jsonpatch<2.0,>=1.33 in /Users/es/Desktop/ml-playground/generative-ai/practices-and-hws/venv/lib/python3.9/site-packages (from langchain<0.2,>=0.1->langchain-experimental) (1.33)\r\n",
      "Requirement already satisfied: langchain-community<0.1,>=0.0.14 in /Users/es/Desktop/ml-playground/generative-ai/practices-and-hws/venv/lib/python3.9/site-packages (from langchain<0.2,>=0.1->langchain-experimental) (0.0.16)\r\n",
      "Requirement already satisfied: langsmith<0.1,>=0.0.83 in /Users/es/Desktop/ml-playground/generative-ai/practices-and-hws/venv/lib/python3.9/site-packages (from langchain<0.2,>=0.1->langchain-experimental) (0.0.84)\r\n",
      "Requirement already satisfied: numpy<2,>=1 in /Users/es/Desktop/ml-playground/generative-ai/practices-and-hws/venv/lib/python3.9/site-packages (from langchain<0.2,>=0.1->langchain-experimental) (1.26.3)\r\n",
      "Requirement already satisfied: pydantic<3,>=1 in /Users/es/Desktop/ml-playground/generative-ai/practices-and-hws/venv/lib/python3.9/site-packages (from langchain<0.2,>=0.1->langchain-experimental) (2.5.3)\r\n",
      "Requirement already satisfied: requests<3,>=2 in /Users/es/Desktop/ml-playground/generative-ai/practices-and-hws/venv/lib/python3.9/site-packages (from langchain<0.2,>=0.1->langchain-experimental) (2.31.0)\r\n",
      "Requirement already satisfied: tenacity<9.0.0,>=8.1.0 in /Users/es/Desktop/ml-playground/generative-ai/practices-and-hws/venv/lib/python3.9/site-packages (from langchain<0.2,>=0.1->langchain-experimental) (8.2.3)\r\n",
      "Requirement already satisfied: anyio<5,>=3 in /Users/es/Desktop/ml-playground/generative-ai/practices-and-hws/venv/lib/python3.9/site-packages (from langchain-core<0.2.0,>=0.1.7->langchain-experimental) (4.2.0)\r\n",
      "Requirement already satisfied: packaging<24.0,>=23.2 in /Users/es/Desktop/ml-playground/generative-ai/practices-and-hws/venv/lib/python3.9/site-packages (from langchain-core<0.2.0,>=0.1.7->langchain-experimental) (23.2)\r\n",
      "Requirement already satisfied: aiosignal>=1.1.2 in /Users/es/Desktop/ml-playground/generative-ai/practices-and-hws/venv/lib/python3.9/site-packages (from aiohttp<4.0.0,>=3.8.3->langchain<0.2,>=0.1->langchain-experimental) (1.3.1)\r\n",
      "Requirement already satisfied: attrs>=17.3.0 in /Users/es/Desktop/ml-playground/generative-ai/practices-and-hws/venv/lib/python3.9/site-packages (from aiohttp<4.0.0,>=3.8.3->langchain<0.2,>=0.1->langchain-experimental) (23.2.0)\r\n",
      "Requirement already satisfied: frozenlist>=1.1.1 in /Users/es/Desktop/ml-playground/generative-ai/practices-and-hws/venv/lib/python3.9/site-packages (from aiohttp<4.0.0,>=3.8.3->langchain<0.2,>=0.1->langchain-experimental) (1.4.1)\r\n",
      "Requirement already satisfied: multidict<7.0,>=4.5 in /Users/es/Desktop/ml-playground/generative-ai/practices-and-hws/venv/lib/python3.9/site-packages (from aiohttp<4.0.0,>=3.8.3->langchain<0.2,>=0.1->langchain-experimental) (6.0.4)\r\n",
      "Requirement already satisfied: yarl<2.0,>=1.0 in /Users/es/Desktop/ml-playground/generative-ai/practices-and-hws/venv/lib/python3.9/site-packages (from aiohttp<4.0.0,>=3.8.3->langchain<0.2,>=0.1->langchain-experimental) (1.9.4)\r\n",
      "Requirement already satisfied: idna>=2.8 in /Users/es/Desktop/ml-playground/generative-ai/practices-and-hws/venv/lib/python3.9/site-packages (from anyio<5,>=3->langchain-core<0.2.0,>=0.1.7->langchain-experimental) (3.6)\r\n",
      "Requirement already satisfied: sniffio>=1.1 in /Users/es/Desktop/ml-playground/generative-ai/practices-and-hws/venv/lib/python3.9/site-packages (from anyio<5,>=3->langchain-core<0.2.0,>=0.1.7->langchain-experimental) (1.3.0)\r\n",
      "Requirement already satisfied: exceptiongroup>=1.0.2 in /Users/es/Desktop/ml-playground/generative-ai/practices-and-hws/venv/lib/python3.9/site-packages (from anyio<5,>=3->langchain-core<0.2.0,>=0.1.7->langchain-experimental) (1.2.0)\r\n",
      "Requirement already satisfied: typing-extensions>=4.1 in /Users/es/Desktop/ml-playground/generative-ai/practices-and-hws/venv/lib/python3.9/site-packages (from anyio<5,>=3->langchain-core<0.2.0,>=0.1.7->langchain-experimental) (4.9.0)\r\n",
      "Requirement already satisfied: marshmallow<4.0.0,>=3.18.0 in /Users/es/Desktop/ml-playground/generative-ai/practices-and-hws/venv/lib/python3.9/site-packages (from dataclasses-json<0.7,>=0.5.7->langchain<0.2,>=0.1->langchain-experimental) (3.20.2)\r\n",
      "Requirement already satisfied: typing-inspect<1,>=0.4.0 in /Users/es/Desktop/ml-playground/generative-ai/practices-and-hws/venv/lib/python3.9/site-packages (from dataclasses-json<0.7,>=0.5.7->langchain<0.2,>=0.1->langchain-experimental) (0.9.0)\r\n",
      "Requirement already satisfied: jsonpointer>=1.9 in /Users/es/Desktop/ml-playground/generative-ai/practices-and-hws/venv/lib/python3.9/site-packages (from jsonpatch<2.0,>=1.33->langchain<0.2,>=0.1->langchain-experimental) (2.4)\r\n",
      "Requirement already satisfied: annotated-types>=0.4.0 in /Users/es/Desktop/ml-playground/generative-ai/practices-and-hws/venv/lib/python3.9/site-packages (from pydantic<3,>=1->langchain<0.2,>=0.1->langchain-experimental) (0.6.0)\r\n",
      "Requirement already satisfied: pydantic-core==2.14.6 in /Users/es/Desktop/ml-playground/generative-ai/practices-and-hws/venv/lib/python3.9/site-packages (from pydantic<3,>=1->langchain<0.2,>=0.1->langchain-experimental) (2.14.6)\r\n",
      "Requirement already satisfied: charset-normalizer<4,>=2 in /Users/es/Desktop/ml-playground/generative-ai/practices-and-hws/venv/lib/python3.9/site-packages (from requests<3,>=2->langchain<0.2,>=0.1->langchain-experimental) (3.3.2)\r\n",
      "Requirement already satisfied: urllib3<3,>=1.21.1 in /Users/es/Desktop/ml-playground/generative-ai/practices-and-hws/venv/lib/python3.9/site-packages (from requests<3,>=2->langchain<0.2,>=0.1->langchain-experimental) (2.1.0)\r\n",
      "Requirement already satisfied: certifi>=2017.4.17 in /Users/es/Desktop/ml-playground/generative-ai/practices-and-hws/venv/lib/python3.9/site-packages (from requests<3,>=2->langchain<0.2,>=0.1->langchain-experimental) (2023.11.17)\r\n",
      "Requirement already satisfied: mypy-extensions>=0.3.0 in /Users/es/Desktop/ml-playground/generative-ai/practices-and-hws/venv/lib/python3.9/site-packages (from typing-inspect<1,>=0.4.0->dataclasses-json<0.7,>=0.5.7->langchain<0.2,>=0.1->langchain-experimental) (1.0.0)\r\n",
      "Downloading langchain_experimental-0.0.49-py3-none-any.whl (165 kB)\r\n",
      "\u001B[2K   \u001B[90m━━━━━━━━━━━━━━━━━━━━━━━━━━━━━━━━━━━━━━━\u001B[0m \u001B[32m165.7/165.7 kB\u001B[0m \u001B[31m849.5 kB/s\u001B[0m eta \u001B[36m0:00:00\u001B[0m \u001B[36m0:00:01\u001B[0mm\r\n",
      "\u001B[?25hInstalling collected packages: langchain-experimental\r\n",
      "Successfully installed langchain-experimental-0.0.49\r\n"
     ]
    }
   ]
  },
  {
   "cell_type": "code",
   "source": [
    "import requests\n",
    "database_response = requests.get(\n",
    "    \"https://raw.githubusercontent.com/lerocha/chinook-database/master/ChinookDatabase/DataSources/Chinook_Sqlite.sqlite\"\n",
    ")\n",
    "with open(\"Chinook_Sqlite.sqlite\", \"wb\") as database_file:\n",
    "    database_file.write(database_response.content)"
   ],
   "metadata": {
    "id": "ujFQYSXxdF_y",
    "ExecuteTime": {
     "end_time": "2024-01-29T18:45:32.952659Z",
     "start_time": "2024-01-29T18:45:31.599238Z"
    }
   },
   "execution_count": 28,
   "outputs": []
  },
  {
   "cell_type": "markdown",
   "source": [
    "Now the database is ready, and we will call an SQL agent. Note that we set `temperature` to zero because we want concise answers without any creativity."
   ],
   "metadata": {
    "id": "j-CIOb4I5CBj"
   }
  },
  {
   "cell_type": "code",
   "execution_count": 29,
   "metadata": {
    "id": "sBv3f_pw6AQ5",
    "ExecuteTime": {
     "end_time": "2024-01-29T18:45:46.592854Z",
     "start_time": "2024-01-29T18:45:46.525592Z"
    }
   },
   "outputs": [],
   "source": [
    "from langchain.utilities import SQLDatabase\n",
    "from langchain.llms import OpenAI\n",
    "from langchain_experimental.sql import SQLDatabaseChain\n",
    "\n",
    "db = SQLDatabase.from_uri(\"sqlite:///Chinook_Sqlite.sqlite\")\n",
    "llm = OpenAI(temperature=0, verbose=True)\n",
    "\n",
    "db_chain = SQLDatabaseChain.from_llm(\n",
    "    llm,\n",
    "    db,\n",
    "    verbose=True,\n",
    "    use_query_checker=True\n",
    ")"
   ]
  },
  {
   "cell_type": "code",
   "execution_count": 30,
   "metadata": {
    "id": "AD4UqdIG6AQ5",
    "outputId": "499db7dc-617a-43c5-e342-de968a03f23f",
    "colab": {
     "base_uri": "https://localhost:8080/",
     "height": 232
    },
    "ExecuteTime": {
     "end_time": "2024-01-29T18:45:54.637665Z",
     "start_time": "2024-01-29T18:45:52.385701Z"
    }
   },
   "outputs": [
    {
     "name": "stdout",
     "output_type": "stream",
     "text": [
      "\n",
      "\n",
      "\u001B[1m> Entering new SQLDatabaseChain chain...\u001B[0m\n",
      "What tables does the database have?\n",
      "SQLQuery:\u001B[32;1m\u001B[1;3mSELECT name FROM sqlite_master WHERE type='table'\u001B[0m\n",
      "SQLResult: \u001B[33;1m\u001B[1;3m[('Album',), ('Artist',), ('Customer',), ('Employee',), ('Genre',), ('Invoice',), ('InvoiceLine',), ('MediaType',), ('Playlist',), ('PlaylistTrack',), ('Track',)]\u001B[0m\n",
      "Answer:\u001B[32;1m\u001B[1;3mThe database has the following tables: Album, Artist, Customer, Employee, Genre, Invoice, InvoiceLine, MediaType, Playlist, PlaylistTrack, and Track.\u001B[0m\n",
      "\u001B[1m> Finished chain.\u001B[0m\n"
     ]
    },
    {
     "data": {
      "text/plain": "'The database has the following tables: Album, Artist, Customer, Employee, Genre, Invoice, InvoiceLine, MediaType, Playlist, PlaylistTrack, and Track.'"
     },
     "execution_count": 30,
     "metadata": {},
     "output_type": "execute_result"
    }
   ],
   "source": [
    "db_chain.run(\"What tables does the database have?\")"
   ]
  },
  {
   "cell_type": "markdown",
   "metadata": {
    "id": "8cF39iqc6AQ5"
   },
   "source": [
    "It is that easy. Now you can you this agent to convert natural language to database quiries."
   ]
  },
  {
   "cell_type": "code",
   "execution_count": 32,
   "metadata": {
    "id": "EK7Dz3fN6AQ5",
    "outputId": "bbf3758f-29d5-4313-c503-9a8482ff169e",
    "colab": {
     "base_uri": "https://localhost:8080/",
     "height": 408
    },
    "ExecuteTime": {
     "end_time": "2024-01-29T18:46:54.791838Z",
     "start_time": "2024-01-29T18:46:50.708888Z"
    }
   },
   "outputs": [
    {
     "name": "stdout",
     "output_type": "stream",
     "text": [
      "\n",
      "\n",
      "\u001B[1m> Entering new SQLDatabaseChain chain...\u001B[0m\n",
      "Calculate the amount of sales for every artist and select top 1 from each genre\n",
      "SQLQuery:\u001B[32;1m\u001B[1;3mSELECT Artist.Name, SUM(Invoice.Total) AS \"Total Sales\"\n",
      "FROM Artist\n",
      "INNER JOIN Album ON Artist.ArtistId = Album.ArtistId\n",
      "INNER JOIN Track ON Album.AlbumId = Track.AlbumId\n",
      "INNER JOIN InvoiceLine ON Track.TrackId = InvoiceLine.TrackId\n",
      "INNER JOIN Invoice ON InvoiceLine.InvoiceId = Invoice.InvoiceId\n",
      "WHERE Artist.Name NOT NULL\n",
      "GROUP BY Artist.Name\n",
      "ORDER BY \"Total Sales\" DESC\n",
      "LIMIT 1\u001B[0m\n",
      "SQLResult: \u001B[33;1m\u001B[1;3m[('Iron Maiden', 1233.54)]\u001B[0m\n",
      "Answer:\u001B[32;1m\u001B[1;3mIron Maiden\u001B[0m\n",
      "\u001B[1m> Finished chain.\u001B[0m\n"
     ]
    },
    {
     "data": {
      "text/plain": "'Iron Maiden'"
     },
     "execution_count": 32,
     "metadata": {},
     "output_type": "execute_result"
    }
   ],
   "source": [
    "db_chain.run(\"Calculate the amount of sales for every artist \"\\\n",
    "    \"and select top 1 from each genre\")"
   ]
  },
  {
   "cell_type": "markdown",
   "metadata": {
    "id": "cMHxKeJ36AQ6"
   },
   "source": [
    "As you see, the chain works as follows:\n",
    "- an LLM creates an SQL query that would give whatever the prompt asks;\n",
    "- the query is pushed to the databased;\n",
    "- an LLM reformulates the SQL result as a nice answer in natural language.\n",
    "\n",
    "It's not always perfect, but it's still impressive how it can make a complex query from text."
   ]
  },
  {
   "cell_type": "markdown",
   "source": [
    "# Vector stores"
   ],
   "metadata": {
    "id": "al5Njtut6hgK"
   }
  },
  {
   "cell_type": "code",
   "source": [
    "from IPython.display import Image\n",
    "Image(\"/content/langchain_vectorstore.png\", width=600)"
   ],
   "metadata": {
    "id": "0L3fkDRC6O3R",
    "outputId": "ef347d0d-bc15-4abe-9199-20caa8d4f07f",
    "colab": {
     "base_uri": "https://localhost:8080/",
     "height": 355
    }
   },
   "execution_count": null,
   "outputs": [
    {
     "output_type": "execute_result",
     "data": {
      "image/png": "[encoded data removed]",
      "text/plain": [
       "<IPython.core.display.Image object>"
      ]
     },
     "metadata": {
      "image/png": {
       "width": 600
      }
     },
     "execution_count": 3
    }
   ]
  },
  {
   "cell_type": "markdown",
   "source": [
    "One of the goals of this week is to create your own RAG-based app. **RAG** (**R**etrieval **A**ugmented **G**eneration) is a concept of supporting a generative model with some kind of a retrieval tool which allows to get more faithful results and less hallucinations. This is crucial when we need to supply our users with facts, for example, if we're creating a navigation tool for a company's internal wiki.\n",
    "\n",
    "Actually, we already touched upon RAG when we used DuckDuckGo. This time we'll retrieve data from a specific type of database - **vector store**.\n",
    "\n",
    "The idea behind vector storages is to represent data items as **embeddings** (real vectors). When we receive a search query, we also somehow make it into an embedding and look for its nearest neighbors in the vector space which can be done rather quickly if somewhat approximately. If your embedding model produces vectors with strong semantic information embedded into it, you can have very high quality retrieval.\n",
    "\n",
    "Vector storages emerged long before transformers, but, but because transformer models offer exceptional text understanding capabilities, using them to construct embeddings for vector storage systems is very popular. A typical AI-powered vector database query tool works like that:\n",
    "\n",
    "- An LLM reformulates user's prompt into a vector store query;\n",
    "- An embedding model is used to map the query into the database vector space;\n",
    "- Vector store returns several items whose embeddings are nearest neighbors of the query's embedding;\n",
    "- An LLM is used to process search results into a nice human readable output.\n",
    "\n",
    "In this practice session you'll getting acquainted with vector databases, and in the homework you'll assemble all the pipline using LangChain.\n"
   ],
   "metadata": {
    "id": "B-kZXHDXxJFn"
   }
  },
  {
   "cell_type": "markdown",
   "source": [
    "There are quite a few vector stores available. We will employ the system called [Faiss](https://github.com/facebookresearch/faiss). It is a state-of-the-art library made by Meta for creating vector databases, which is used by a lot of production solutions.\n",
    "\n",
    "We will use an IELTS essay dataset as a source of long texts, we want to search through."
   ],
   "metadata": {
    "id": "gR-55q0DBY1V"
   }
  },
  {
   "cell_type": "markdown",
   "source": [
    "Please make sure to put your credentials in an appropriate location following the instruction here https://github.com/Kaggle/kaggle-api#api-credentials"
   ],
   "metadata": {
    "id": "aVtCbFzmhe5h"
   }
  },
  {
   "cell_type": "code",
   "source": [
    "!pip install kaggle faiss-cpu tiktoken"
   ],
   "metadata": {
    "colab": {
     "base_uri": "https://localhost:8080/"
    },
    "id": "9MRe2lUhg7gI",
    "outputId": "c1a01931-62bb-441d-c73b-3cbc528a8619",
    "ExecuteTime": {
     "end_time": "2024-01-30T07:35:45.917914Z",
     "start_time": "2024-01-30T07:35:43.368105Z"
    }
   },
   "execution_count": 34,
   "outputs": [
    {
     "name": "stdout",
     "output_type": "stream",
     "text": [
      "Requirement already satisfied: kaggle in /Users/es/Desktop/ml-playground/generative-ai/practices-and-hws/venv/lib/python3.9/site-packages (1.6.3)\r\n",
      "Requirement already satisfied: faiss-cpu in /Users/es/Desktop/ml-playground/generative-ai/practices-and-hws/venv/lib/python3.9/site-packages (1.7.4)\r\n",
      "Requirement already satisfied: tiktoken in /Users/es/Desktop/ml-playground/generative-ai/practices-and-hws/venv/lib/python3.9/site-packages (0.5.2)\r\n",
      "Requirement already satisfied: six>=1.10 in /Users/es/Desktop/ml-playground/generative-ai/practices-and-hws/venv/lib/python3.9/site-packages (from kaggle) (1.16.0)\r\n",
      "Requirement already satisfied: certifi in /Users/es/Desktop/ml-playground/generative-ai/practices-and-hws/venv/lib/python3.9/site-packages (from kaggle) (2023.11.17)\r\n",
      "Requirement already satisfied: python-dateutil in /Users/es/Desktop/ml-playground/generative-ai/practices-and-hws/venv/lib/python3.9/site-packages (from kaggle) (2.8.2)\r\n",
      "Requirement already satisfied: requests in /Users/es/Desktop/ml-playground/generative-ai/practices-and-hws/venv/lib/python3.9/site-packages (from kaggle) (2.31.0)\r\n",
      "Requirement already satisfied: tqdm in /Users/es/Desktop/ml-playground/generative-ai/practices-and-hws/venv/lib/python3.9/site-packages (from kaggle) (4.66.1)\r\n",
      "Requirement already satisfied: python-slugify in /Users/es/Desktop/ml-playground/generative-ai/practices-and-hws/venv/lib/python3.9/site-packages (from kaggle) (8.0.2)\r\n",
      "Requirement already satisfied: urllib3 in /Users/es/Desktop/ml-playground/generative-ai/practices-and-hws/venv/lib/python3.9/site-packages (from kaggle) (2.1.0)\r\n",
      "Requirement already satisfied: bleach in /Users/es/Desktop/ml-playground/generative-ai/practices-and-hws/venv/lib/python3.9/site-packages (from kaggle) (6.1.0)\r\n",
      "Requirement already satisfied: regex>=2022.1.18 in /Users/es/Desktop/ml-playground/generative-ai/practices-and-hws/venv/lib/python3.9/site-packages (from tiktoken) (2023.12.25)\r\n",
      "Requirement already satisfied: charset-normalizer<4,>=2 in /Users/es/Desktop/ml-playground/generative-ai/practices-and-hws/venv/lib/python3.9/site-packages (from requests->kaggle) (3.3.2)\r\n",
      "Requirement already satisfied: idna<4,>=2.5 in /Users/es/Desktop/ml-playground/generative-ai/practices-and-hws/venv/lib/python3.9/site-packages (from requests->kaggle) (3.6)\r\n",
      "Requirement already satisfied: webencodings in /Users/es/Desktop/ml-playground/generative-ai/practices-and-hws/venv/lib/python3.9/site-packages (from bleach->kaggle) (0.5.1)\r\n",
      "Requirement already satisfied: text-unidecode>=1.3 in /Users/es/Desktop/ml-playground/generative-ai/practices-and-hws/venv/lib/python3.9/site-packages (from python-slugify->kaggle) (1.3)\r\n"
     ]
    }
   ]
  },
  {
   "cell_type": "code",
   "source": [
    "!export KAGGLE_CONFIG_DIR=\"/Users/es/.kaggle/\" && kaggle datasets download mazlumi/ielts-writing-scored-essays-dataset"
   ],
   "metadata": {
    "colab": {
     "base_uri": "https://localhost:8080/"
    },
    "id": "KjMhdBS9hBTN",
    "outputId": "8ee91237-6708-42d1-d37f-39a72c5d90b4",
    "ExecuteTime": {
     "end_time": "2024-01-30T07:41:16.927396Z",
     "start_time": "2024-01-30T07:41:15.546842Z"
    }
   },
   "execution_count": 41,
   "outputs": [
    {
     "name": "stdout",
     "output_type": "stream",
     "text": [
      "/Users/es/Desktop/ml-playground/generative-ai/practices-and-hws/venv/lib/python3.9/site-packages/urllib3/__init__.py:34: NotOpenSSLWarning: urllib3 v2 only supports OpenSSL 1.1.1+, currently the 'ssl' module is compiled with 'LibreSSL 2.8.3'. See: https://github.com/urllib3/urllib3/issues/3020\r\n",
      "  warnings.warn(\r\n",
      "ielts-writing-scored-essays-dataset.zip: Skipping, found more recently modified local copy (use --force to force download)\r\n"
     ]
    }
   ]
  },
  {
   "cell_type": "code",
   "source": [
    "!unzip ielts-writing-scored-essays-dataset.zip"
   ],
   "metadata": {
    "colab": {
     "base_uri": "https://localhost:8080/"
    },
    "id": "9SnJW885iRan",
    "outputId": "afa482d9-3d3a-43b2-ed34-d647f222b7d0",
    "ExecuteTime": {
     "end_time": "2024-01-30T07:41:23.444428Z",
     "start_time": "2024-01-30T07:41:23.295158Z"
    }
   },
   "execution_count": 42,
   "outputs": [
    {
     "name": "stdout",
     "output_type": "stream",
     "text": [
      "Archive:  ielts-writing-scored-essays-dataset.zip\r\n",
      "  inflating: ielts_writing_dataset.csv  \r\n"
     ]
    }
   ]
  },
  {
   "cell_type": "markdown",
   "source": [
    "Let's look at the data:"
   ],
   "metadata": {
    "id": "YHlDfhDaB22Q"
   }
  },
  {
   "cell_type": "code",
   "source": [
    "import pandas"
   ],
   "metadata": {
    "id": "lGGip06Wnybv",
    "ExecuteTime": {
     "end_time": "2024-01-30T07:41:35.568557Z",
     "start_time": "2024-01-30T07:41:33.870375Z"
    }
   },
   "execution_count": 43,
   "outputs": [
    {
     "name": "stderr",
     "output_type": "stream",
     "text": [
      "/var/folders/5l/f_x4wc0n3nzgyf_7_znw3nbw0000gn/T/ipykernel_80223/902919682.py:1: DeprecationWarning: \n",
      "Pyarrow will become a required dependency of pandas in the next major release of pandas (pandas 3.0),\n",
      "(to allow more performant data types, such as the Arrow string type, and better interoperability with other libraries)\n",
      "but was not found to be installed on your system.\n",
      "If this would cause problems for you,\n",
      "please provide us feedback at https://github.com/pandas-dev/pandas/issues/54466\n",
      "        \n",
      "  import pandas\n"
     ]
    }
   ]
  },
  {
   "cell_type": "code",
   "source": [
    "pandas.options.display.max_colwidth = 100\n",
    "reviews = pandas.read_csv(\"ielts_writing_dataset.csv\")\n",
    "reviews.head(2).dropna(axis=1)"
   ],
   "metadata": {
    "colab": {
     "base_uri": "https://localhost:8080/",
     "height": 233
    },
    "id": "H8ZiLTYS2oFt",
    "outputId": "8dff42e5-a8bc-4bee-9dec-ea4ff7f7dd3e",
    "ExecuteTime": {
     "end_time": "2024-01-30T07:41:42.282685Z",
     "start_time": "2024-01-30T07:41:42.221618Z"
    }
   },
   "execution_count": 44,
   "outputs": [
    {
     "data": {
      "text/plain": "   Task_Type  \\\n0          1   \n1          2   \n\n                                                                                              Question  \\\n0  The bar chart below describes some changes about the percentage of people were born in Australia...   \n1  Rich countries often give money to poorer countries, but it does not solve poverty. Therefore, d...   \n\n                                                                                                 Essay  \\\n0  Between 1995 and 2010, a study was conducted representing the percentages of people born in Aust...   \n1  Poverty represents a worldwide crisis. It is the ugliest epidemic in a region, which could infec...   \n\n   Overall  \n0      5.5  \n1      6.5  ",
      "text/html": "<div>\n<style scoped>\n    .dataframe tbody tr th:only-of-type {\n        vertical-align: middle;\n    }\n\n    .dataframe tbody tr th {\n        vertical-align: top;\n    }\n\n    .dataframe thead th {\n        text-align: right;\n    }\n</style>\n<table border=\"1\" class=\"dataframe\">\n  <thead>\n    <tr style=\"text-align: right;\">\n      <th></th>\n      <th>Task_Type</th>\n      <th>Question</th>\n      <th>Essay</th>\n      <th>Overall</th>\n    </tr>\n  </thead>\n  <tbody>\n    <tr>\n      <th>0</th>\n      <td>1</td>\n      <td>The bar chart below describes some changes about the percentage of people were born in Australia...</td>\n      <td>Between 1995 and 2010, a study was conducted representing the percentages of people born in Aust...</td>\n      <td>5.5</td>\n    </tr>\n    <tr>\n      <th>1</th>\n      <td>2</td>\n      <td>Rich countries often give money to poorer countries, but it does not solve poverty. Therefore, d...</td>\n      <td>Poverty represents a worldwide crisis. It is the ugliest epidemic in a region, which could infec...</td>\n      <td>6.5</td>\n    </tr>\n  </tbody>\n</table>\n</div>"
     },
     "execution_count": 44,
     "metadata": {},
     "output_type": "execute_result"
    }
   ]
  },
  {
   "cell_type": "markdown",
   "source": [
    "## Text splitters\n",
    "\n",
    "The length of the documents that we could store in a vector storage is limited by the context length of your models. The texts we work with are often longer, so we need need **Text Splitters** to cut the texts into pieces.\n",
    "\n",
    "First of all, let's check out how big our documents are:"
   ],
   "metadata": {
    "id": "3kwgiluki-jD"
   }
  },
  {
   "cell_type": "code",
   "source": [
    "# no truncation of text\n",
    "pandas.options.display.max_colwidth = 100_000_000"
   ],
   "metadata": {
    "id": "wbXyMhrJqx_D",
    "ExecuteTime": {
     "end_time": "2024-01-30T07:43:18.009992Z",
     "start_time": "2024-01-30T07:43:17.990573Z"
    }
   },
   "execution_count": 45,
   "outputs": []
  },
  {
   "cell_type": "code",
   "source": [
    "import tiktoken\n",
    "import re\n",
    "enc = tiktoken.get_encoding(\"cl100k_base\")"
   ],
   "metadata": {
    "id": "tkMFYx88jg9X",
    "ExecuteTime": {
     "end_time": "2024-01-30T07:43:29.196500Z",
     "start_time": "2024-01-30T07:43:26.253929Z"
    }
   },
   "execution_count": 46,
   "outputs": []
  },
  {
   "cell_type": "code",
   "source": [
    "rows_as_single_string = reviews.apply(\n",
    "    lambda row: (re.sub(' +', ' ', row.to_string().replace(\"\\n\", \" \"))),\n",
    "    axis=1\n",
    ")\n",
    "max(map(lambda text: len(enc.encode(text)), rows_as_single_string))"
   ],
   "metadata": {
    "id": "fKB2-2kojQIL",
    "outputId": "e121befa-7bf4-43d7-abf6-d3a5545a91b3",
    "colab": {
     "base_uri": "https://localhost:8080/"
    },
    "ExecuteTime": {
     "end_time": "2024-01-30T07:43:43.828363Z",
     "start_time": "2024-01-30T07:43:42.202450Z"
    }
   },
   "execution_count": 47,
   "outputs": [
    {
     "data": {
      "text/plain": "772"
     },
     "execution_count": 47,
     "metadata": {},
     "output_type": "execute_result"
    }
   ]
  },
  {
   "cell_type": "markdown",
   "source": [
    "Even though this is less then 4096 max ChatGPT tokens, models typically don't undrestand long texts well enough, so it's better to split this item."
   ],
   "metadata": {
    "id": "tD5DesJhtTnW"
   }
  },
  {
   "cell_type": "markdown",
   "source": [
    "Let's create a document list for our database"
   ],
   "metadata": {
    "id": "7lVTnn9T29ul"
   }
  },
  {
   "cell_type": "code",
   "source": [
    "documents = rows_as_single_string.tolist()"
   ],
   "metadata": {
    "id": "xfFIKnJOusJU",
    "ExecuteTime": {
     "end_time": "2024-01-30T07:43:58.996117Z",
     "start_time": "2024-01-30T07:43:58.966419Z"
    }
   },
   "execution_count": 48,
   "outputs": []
  },
  {
   "cell_type": "markdown",
   "source": [
    "Let's look at a simple splitter called `CharacterTextSplitter`. It splits text on `separator` then gathers chunks based on `chunk size` as measured by a `length_function`. `chunk_overlap` controlls how much of the previous chunk we want to include in the next one for continuity.\n",
    "\n",
    "Let's see an example."
   ],
   "metadata": {
    "id": "Uj1ulK1txH0G"
   }
  },
  {
   "cell_type": "code",
   "source": [
    "from langchain.text_splitter import CharacterTextSplitter\n",
    "\n",
    "text_splitter = CharacterTextSplitter(\n",
    "    separator=\" \",\n",
    "    chunk_size=32,\n",
    "    chunk_overlap=4,\n",
    "    length_function=lambda text: len(enc.encode(text)),\n",
    ")"
   ],
   "metadata": {
    "id": "USA1UNLMxhq2",
    "ExecuteTime": {
     "end_time": "2024-01-30T07:44:15.715986Z",
     "start_time": "2024-01-30T07:44:15.699761Z"
    }
   },
   "execution_count": 49,
   "outputs": []
  },
  {
   "cell_type": "code",
   "source": [
    "from IPython.display import display\n",
    "\n",
    "texts = text_splitter.create_documents(documents)\n",
    "display(texts[0])\n",
    "display(texts[1])\n",
    "display(texts[2])"
   ],
   "metadata": {
    "colab": {
     "base_uri": "https://localhost:8080/",
     "height": 161
    },
    "id": "tUdFxZ5Pxpj-",
    "outputId": "0afffa30-b98d-4650-c644-c097a32874f3",
    "ExecuteTime": {
     "end_time": "2024-01-30T07:44:22.256290Z",
     "start_time": "2024-01-30T07:44:18.776792Z"
    }
   },
   "execution_count": 50,
   "outputs": [
    {
     "name": "stderr",
     "output_type": "stream",
     "text": [
      "Created a chunk of size 108, which is longer than the specified 32\n"
     ]
    },
    {
     "data": {
      "text/plain": "Document(page_content='Task_Type 1 Question The bar chart below describes some changes about the percentage of people')"
     },
     "metadata": {},
     "output_type": "display_data"
    },
    {
     "data": {
      "text/plain": "Document(page_content='of people were born in Australia and who were born outside Australia living in urban,')"
     },
     "metadata": {},
     "output_type": "display_data"
    },
    {
     "data": {
      "text/plain": "Document(page_content='in urban, rural and town between 1995 and 2010.Summarise the information by')"
     },
     "metadata": {},
     "output_type": "display_data"
    }
   ]
  },
  {
   "cell_type": "markdown",
   "source": [
    "`RecursiveCharacterTextSplitter` is very similar to `CharacterTextSplitter`, except for the splitting and gathering logic. It inputs a list of `separators` (the default is [\"\\n\\n\", \"\\n\", \" \", \"\"]), which it then used in the same order as in the list. That means that first we split paragraphs, then if they are bigger than `chunk_size` we split on sentences, and so on. This helps the chunks to be a bit more cohesive."
   ],
   "metadata": {
    "id": "wbPbrYHbwkql"
   }
  },
  {
   "cell_type": "code",
   "source": [
    "from langchain.text_splitter import RecursiveCharacterTextSplitter\n",
    "\n",
    "text_splitter = RecursiveCharacterTextSplitter(\n",
    "    chunk_size=32,\n",
    "    chunk_overlap=4,\n",
    "    length_function=lambda text: len(enc.encode(text)),\n",
    "    add_start_index=True,\n",
    ")"
   ],
   "metadata": {
    "id": "0Hxas7VStTGg",
    "ExecuteTime": {
     "end_time": "2024-01-30T07:44:45.374079Z",
     "start_time": "2024-01-30T07:44:45.356079Z"
    }
   },
   "execution_count": 51,
   "outputs": []
  },
  {
   "cell_type": "code",
   "source": [
    "texts = text_splitter.create_documents(documents)\n",
    "display(texts[0])\n",
    "display(texts[1])\n",
    "display(texts[2])"
   ],
   "metadata": {
    "colab": {
     "base_uri": "https://localhost:8080/",
     "height": 211
    },
    "id": "eO3jYEO7uJ-z",
    "outputId": "496f08ff-a4e6-4385-9ae7-391b53ff8303",
    "ExecuteTime": {
     "end_time": "2024-01-30T07:44:52.927408Z",
     "start_time": "2024-01-30T07:44:48.167469Z"
    }
   },
   "execution_count": 52,
   "outputs": [
    {
     "data": {
      "text/plain": "Document(page_content='Task_Type 1 Question The bar chart below describes some changes about the percentage of people were born in Australia and who were born outside Australia living in urban, rural', metadata={'start_index': 0})"
     },
     "metadata": {},
     "output_type": "display_data"
    },
    {
     "data": {
      "text/plain": "Document(page_content='in urban, rural and town between 1995 and 2010.Summarise the information by selecting and reporting the main features and make comparisons where relevant.', metadata={'start_index': 161})"
     },
     "metadata": {},
     "output_type": "display_data"
    },
    {
     "data": {
      "text/plain": "Document(page_content='comparisons where relevant. Essay Between 1995 and 2010, a study was conducted representing the percentages of people born in Australia, versus people born outside', metadata={'start_index': 288})"
     },
     "metadata": {},
     "output_type": "display_data"
    }
   ]
  },
  {
   "cell_type": "markdown",
   "source": [
    "Probably the most reasonable way to split is not by characters but by tokens using the model's tokenizer. LangChain supports creating a text splitter directly from tiktoken."
   ],
   "metadata": {
    "id": "LiQwGHMlyZZH"
   }
  },
  {
   "cell_type": "code",
   "source": [
    "text_splitter = RecursiveCharacterTextSplitter.from_tiktoken_encoder(\n",
    "    chunk_size=32,\n",
    "    chunk_overlap=4,\n",
    "    add_start_index=True\n",
    ")"
   ],
   "metadata": {
    "id": "bbmEZFUyx9KJ",
    "ExecuteTime": {
     "end_time": "2024-01-30T07:45:01.389429Z",
     "start_time": "2024-01-30T07:44:57.298815Z"
    }
   },
   "execution_count": 53,
   "outputs": []
  },
  {
   "cell_type": "code",
   "source": [
    "texts = text_splitter.create_documents(documents)\n",
    "display(texts[0])\n",
    "display(texts[1])\n",
    "display(texts[2])"
   ],
   "metadata": {
    "colab": {
     "base_uri": "https://localhost:8080/",
     "height": 229
    },
    "id": "ze5hzd1ZyS0r",
    "outputId": "332e64f0-f35a-421a-8185-32060aa48ba4",
    "ExecuteTime": {
     "end_time": "2024-01-30T07:45:42.766601Z",
     "start_time": "2024-01-30T07:45:38.986628Z"
    }
   },
   "execution_count": 54,
   "outputs": [
    {
     "data": {
      "text/plain": "Document(page_content='Task_Type 1 Question The bar chart below describes some changes about the percentage of people were born in Australia and who were born outside Australia living in urban, rural', metadata={'start_index': 0})"
     },
     "metadata": {},
     "output_type": "display_data"
    },
    {
     "data": {
      "text/plain": "Document(page_content='in urban, rural and town between 1995 and 2010.Summarise the information by selecting and reporting the main features and make comparisons where relevant. Essay Between', metadata={'start_index': 161})"
     },
     "metadata": {},
     "output_type": "display_data"
    },
    {
     "data": {
      "text/plain": "Document(page_content='Essay Between 1995 and 2010, a study was conducted representing the percentages of people born in Australia, versus people born outside Australia, living in urban, rural,', metadata={'start_index': 316})"
     },
     "metadata": {},
     "output_type": "display_data"
    }
   ]
  },
  {
   "cell_type": "markdown",
   "source": [
    "## Vector database creation\n",
    "\n",
    "Let's create a database of segments of IELTS essays and examinator comments."
   ],
   "metadata": {
    "id": "seeLrywj3gq5"
   }
  },
  {
   "cell_type": "code",
   "source": [
    "from langchain.docstore.document import Document\n",
    "from langchain.embeddings.openai import OpenAIEmbeddings\n",
    "from langchain.text_splitter import RecursiveCharacterTextSplitter\n",
    "from langchain.vectorstores import FAISS\n",
    "\n",
    "# Load the document, split it into chunks, embed each chunk and load it into the vector store.\n",
    "text_splitter = RecursiveCharacterTextSplitter.from_tiktoken_encoder(\n",
    "    chunk_size=256,\n",
    "    chunk_overlap=16,\n",
    "    add_start_index=True\n",
    ")\n",
    "splitted_documents = text_splitter.create_documents(documents)\n",
    "db = FAISS.from_documents(splitted_documents, OpenAIEmbeddings())"
   ],
   "metadata": {
    "id": "jdvev55b39hT",
    "ExecuteTime": {
     "end_time": "2024-01-30T07:46:21.218227Z",
     "start_time": "2024-01-30T07:45:50.159132Z"
    }
   },
   "execution_count": 55,
   "outputs": [
    {
     "name": "stderr",
     "output_type": "stream",
     "text": [
      "/Users/es/Desktop/ml-playground/generative-ai/practices-and-hws/venv/lib/python3.9/site-packages/langchain_core/_api/deprecation.py:117: LangChainDeprecationWarning: The class `langchain_community.embeddings.openai.OpenAIEmbeddings` was deprecated in langchain-community 0.1.0 and will be removed in 0.2.0. An updated version of the class exists in the langchain-openai package and should be used instead. To use it run `pip install -U langchain-openai` and import as `from langchain_openai import OpenAIEmbeddings`.\n",
      "  warn_deprecated(\n"
     ]
    }
   ]
  },
  {
   "cell_type": "markdown",
   "source": [
    "Now we can perform similarity search using our embeddings"
   ],
   "metadata": {
    "id": "z5XatzjE4ovm"
   }
  },
  {
   "cell_type": "code",
   "source": [
    "query = \"An awesome essay about bar charts\"\n",
    "docs = db.similarity_search(query)\n",
    "docs[0].page_content"
   ],
   "metadata": {
    "colab": {
     "base_uri": "https://localhost:8080/",
     "height": 265
    },
    "id": "FeErhxd_4F_n",
    "outputId": "3e021aba-df5a-4f5e-e0a9-833ae70f0e27",
    "ExecuteTime": {
     "end_time": "2024-01-30T07:46:26.716061Z",
     "start_time": "2024-01-30T07:46:26.150681Z"
    }
   },
   "execution_count": 56,
   "outputs": [
    {
     "data": {
      "text/plain": "\"Task_Type 1 Question The bar charts below shows the number of visits to a community website in the first and second year of use.Summarize the information by selecting and reporting the main features and mae comparisons with relevant. Essay The bar chart illustrates the quantity of visits by the thousands paid to a community website within the first two years of use.\\\\nOverall, there is a greater upward trend from the second year of use compared to the first year of use. In addition to that, in both years the website undergoes a drastic fluctuation in numbers. It can be observed that initially in the month of September, number of visits in the first year of use are lower than second year of use, but numbers of the former subsequently surpasses the latter in the final month of August.\\\\nIn regards to the first year of use, quantity of visits increases from about 2000 visits in September to 10000 visits within 2 months and remains constant for another month. Following that, numbers plummet from December to February, reaching a low-point of less than approximately 500 visits. The numbers rise gradually from February onwards until it reaches it's highest at 15000 by August.\\\\nOn the other hand, during the second year of use, the number of visits rises sharply\""
     },
     "execution_count": 56,
     "metadata": {},
     "output_type": "execute_result"
    }
   ]
  },
  {
   "cell_type": "code",
   "source": [
    "query = \"A poorly written essay\"\n",
    "docs = db.similarity_search(query)\n",
    "docs[0].page_content"
   ],
   "metadata": {
    "colab": {
     "base_uri": "https://localhost:8080/",
     "height": 106
    },
    "id": "nb0o2tO_5gcf",
    "outputId": "0e6d8f31-045f-44dc-e5b1-c62597da0a41",
    "ExecuteTime": {
     "end_time": "2024-01-30T07:46:31.461369Z",
     "start_time": "2024-01-30T07:46:31.185325Z"
    }
   },
   "execution_count": 57,
   "outputs": [
    {
     "data": {
      "text/plain": "'but you must offer more arguments regarding why you agree or disagree. There are many spelling, punctuation and article errors. The essay is easy to follow but has the appearance of the writer running short of time. Task_Response NaN Coherence_Cohesion NaN Lexical_Resource NaN Range_Accuracy NaN Overall 5.0'"
     },
     "execution_count": 57,
     "metadata": {},
     "output_type": "execute_result"
    }
   ]
  },
  {
   "cell_type": "markdown",
   "source": [
    "This week we've learned:\n",
    "- How to use LangChain library.\n",
    "- How to add plugins to an help an LLM excel in more complex tasks.\n",
    "- How to interact with a database with an LLM.\n",
    "- How to create a vector database and how to interact with it.\n",
    "\n",
    "\n",
    "In this week's homework you'll:\n",
    "- Learn how to make ChatGPT nail high-school tests.\n",
    "- Create a more robust vector database.\n",
    "- Make your own ChatGPT plugin."
   ],
   "metadata": {
    "id": "w-O2uAyrrTUd"
   }
  }
 ],
 "metadata": {
  "kernelspec": {
   "name": "python3",
   "language": "python",
   "display_name": "Python 3 (ipykernel)"
  },
  "language_info": {
   "codemirror_mode": {
    "name": "ipython",
    "version": 3
   },
   "file_extension": ".py",
   "mimetype": "text/x-python",
   "name": "python",
   "nbconvert_exporter": "python",
   "pygments_lexer": "ipython3",
   "version": "3.9.12"
  },
  "orig_nbformat": 4,
  "colab": {
   "provenance": [],
   "include_colab_link": true
  }
 },
 "nbformat": 4,
 "nbformat_minor": 0
}
