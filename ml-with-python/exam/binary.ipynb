{
 "cells": [
  {
   "cell_type": "markdown",
   "source": [
    "## Basic model"
   ],
   "metadata": {
    "collapsed": false
   }
  },
  {
   "cell_type": "code",
   "execution_count": 52,
   "outputs": [],
   "source": [
    "import pandas as pd\n",
    "from sklearn.impute import SimpleImputer\n",
    "from sklearn.model_selection import train_test_split, StratifiedKFold, GridSearchCV\n",
    "from sklearn.preprocessing import StandardScaler\n",
    "from catboost import CatBoostClassifier\n",
    "from sklearn.metrics import accuracy_score, roc_auc_score\n",
    "from imblearn.over_sampling import SMOTE\n",
    "from sklearn.model_selection import train_test_split\n",
    "from collections import Counter\n",
    "\n",
    "df = pd.read_csv('train.csv')\n",
    "\n",
    "# important_features = columns = [col for col in df.columns if col not in ['feature1', 'feature8', 'target']]\n",
    "# print(important_features)\n",
    "X = df.drop('target', axis=1)\n",
    "y = df['target']"
   ],
   "metadata": {
    "collapsed": false,
    "ExecuteTime": {
     "end_time": "2024-01-22T12:28:06.863243Z",
     "start_time": "2024-01-22T12:28:06.856292Z"
    }
   }
  },
  {
   "cell_type": "code",
   "execution_count": 61,
   "outputs": [
    {
     "name": "stdout",
     "output_type": "stream",
     "text": [
      "Before SMOTE: Counter({1: 694, 0: 106})\n",
      "After SMOTE: Counter({1: 694, 0: 694})\n"
     ]
    }
   ],
   "source": [
    "X_train, X_test, y_train, y_test = train_test_split(X, y, test_size=0.2, random_state=42)\n",
    "\n",
    "imputer = SimpleImputer(strategy='mean') \n",
    "X_train_imputed = imputer.fit_transform(X_train)\n",
    "X_test_imputed = imputer.transform(X_test)\n",
    "\n",
    "print(\"Before SMOTE:\", Counter(y_train))\n",
    "\n",
    "sm = SMOTE(random_state=42)\n",
    "X_train_res, y_train_res = sm.fit_resample(X_train_imputed, y_train)\n",
    "\n",
    "print(\"After SMOTE:\", Counter(y_train_res))\n",
    "\n",
    "scaler = StandardScaler()\n",
    "X_train_scaled = scaler.fit_transform(X_train_res)\n",
    "X_test_scaled = scaler.transform(X_test_imputed)"
   ],
   "metadata": {
    "collapsed": false,
    "ExecuteTime": {
     "end_time": "2024-01-22T12:33:16.712095Z",
     "start_time": "2024-01-22T12:33:16.700199Z"
    }
   }
  },
  {
   "cell_type": "code",
   "execution_count": 62,
   "outputs": [
    {
     "name": "stdout",
     "output_type": "stream",
     "text": [
      "Fitting 5 folds for each of 81 candidates, totalling 405 fits\n",
      "Best Parameters: {'depth': 8, 'iterations': 500, 'l2_leaf_reg': 5, 'learning_rate': 0.1}\n",
      "Accuracy: 0.91, ROC-AUC: 0.8010610079575597\n"
     ]
    }
   ],
   "source": [
    "## Model setup section TODO\n",
    "param_grid = {\n",
    "    'depth': [6, 8, 10],\n",
    "    'learning_rate': [0.1, 0.025, 0.4],\n",
    "    'iterations': [500, 550, 600],\n",
    "    'l2_leaf_reg': [5, 7, 9]\n",
    "}\n",
    "\n",
    "model = CatBoostClassifier(verbose=0)\n",
    "cv_strategy = StratifiedKFold(n_splits=5, shuffle=True, random_state=42)\n",
    "grid_search = GridSearchCV(model, param_grid, cv=cv_strategy, scoring='accuracy', n_jobs=-1, verbose=2)\n",
    "grid_search.fit(X_train_scaled, y_train_res)\n",
    "\n",
    "print(\"Best Parameters:\", grid_search.best_params_)\n",
    "\n",
    "# Evaluate on the test set\n",
    "best_model = grid_search.best_estimator_\n",
    "predictions = best_model.predict(X_test_scaled)\n",
    "accuracy = accuracy_score(y_test, predictions)\n",
    "roc_auc = roc_auc_score(y_test, predictions)\n",
    "print(f'Accuracy: {accuracy}, ROC-AUC: {roc_auc}')"
   ],
   "metadata": {
    "collapsed": false,
    "ExecuteTime": {
     "end_time": "2024-01-22T12:45:31.772769Z",
     "start_time": "2024-01-22T12:33:16.949599Z"
    }
   }
  },
  {
   "cell_type": "code",
   "execution_count": 63,
   "outputs": [
    {
     "name": "stdout",
     "output_type": "stream",
     "text": [
      "      Feature  Importance\n",
      "7    feature8   17.564503\n",
      "11  feature12   14.135845\n",
      "0    feature1   10.710500\n",
      "6    feature7   10.202093\n",
      "2    feature3    9.892006\n",
      "3    feature4    9.638696\n",
      "9   feature10    6.344784\n",
      "12  feature13    5.939379\n",
      "10  feature11    5.144176\n",
      "4    feature5    4.268038\n",
      "5    feature6    2.508020\n",
      "8    feature9    1.911199\n",
      "1    feature2    1.740760\n"
     ]
    }
   ],
   "source": [
    "feature_importances = best_model.feature_importances_\n",
    "feature_names = X.columns\n",
    "feature_importances_df = pd.DataFrame({'Feature': feature_names, 'Importance': feature_importances})\n",
    "print(feature_importances_df.sort_values(by='Importance', ascending=False))"
   ],
   "metadata": {
    "collapsed": false,
    "ExecuteTime": {
     "end_time": "2024-01-22T12:45:31.783006Z",
     "start_time": "2024-01-22T12:45:31.778215Z"
    }
   }
  },
  {
   "cell_type": "code",
   "execution_count": 64,
   "metadata": {
    "id": "MsT3dcjHXnpk",
    "ExecuteTime": {
     "end_time": "2024-01-22T12:45:33.395134Z",
     "start_time": "2024-01-22T12:45:31.784407Z"
    }
   },
   "outputs": [
    {
     "name": "stdout",
     "output_type": "stream",
     "text": [
      "Model predictions saved.\n"
     ]
    }
   ],
   "source": [
    "new_data = pd.read_csv('test.csv')\n",
    "# new_data=new_data[important_features + ['Id']] # FIXME in case of feature importance change\n",
    "new_data_imputed = imputer.transform(new_data.drop('Id', axis=1))\n",
    "new_data_scaled = scaler.transform(new_data_imputed)\n",
    "new_predictions = best_model.predict(new_data_scaled)\n",
    "\n",
    "submission = pd.DataFrame({'Id': new_data['Id'], 'target': new_predictions})\n",
    "submission.to_csv('final_submission_advanced_13_late_submission.csv', index=False)\n",
    "print(\"Model predictions saved.\")"
   ]
  },
  {
   "cell_type": "code",
   "execution_count": null,
   "outputs": [],
   "source": [],
   "metadata": {
    "collapsed": false
   }
  }
 ],
 "metadata": {
  "colab": {
   "authorship_tag": "ABX9TyNab5ej0QbsNu453aILn+OV",
   "include_colab_link": true,
   "provenance": []
  },
  "kernelspec": {
   "name": "python3",
   "language": "python",
   "display_name": "Python 3 (ipykernel)"
  },
  "language_info": {
   "name": "python"
  }
 },
 "nbformat": 4,
 "nbformat_minor": 0
}
